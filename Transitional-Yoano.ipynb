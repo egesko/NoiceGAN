{
 "cells": [
  {
   "cell_type": "code",
   "execution_count": 3,
   "id": "1f65710c-66ba-4de6-90de-2e7d2b5789f5",
   "metadata": {},
   "outputs": [],
   "source": [
    "import glob\n",
    "import pandas as pd\n",
    "import imageio\n",
    "import matplotlib.pyplot as plt\n",
    "import numpy as np\n",
    "import os\n",
    "import PIL\n",
    "from tensorflow.keras import layers \n",
    "import time\n",
    "import tensorflow as tf\n",
    "from IPython import display\n",
    "from IPython.display import clear_output\n",
    "from keras.initializers import RandomNormal\n",
    "from PIL import Image"
   ]
  },
  {
   "cell_type": "markdown",
   "id": "06b95ed2-79c5-4126-b02d-f6738ca9f38e",
   "metadata": {
    "id": "4dc7fcf6-bc9c-4bb2-a687-18f46a859dd0"
   },
   "source": [
    "# Load and prepare dataset"
   ]
  },
  {
   "cell_type": "code",
   "execution_count": 4,
   "id": "60ec500d-0397-4842-b9d3-54172908154a",
   "metadata": {
    "id": "D6-1q8AZHL6U"
   },
   "outputs": [],
   "source": [
    "BUFFER_SIZE = 60000\n",
    "BATCH_SIZE = 128"
   ]
  },
  {
   "cell_type": "code",
   "execution_count": 5,
   "id": "8dce3b58-b7ca-4780-a1f8-6646a688569d",
   "metadata": {
    "colab": {
     "base_uri": "https://localhost:8080/"
    },
    "id": "DSlGzinEHL6W",
    "outputId": "0269db74-695e-4564-b232-346824e2fb3e"
   },
   "outputs": [],
   "source": [
    "(train_images, train_labels), (test_images,test_labels) = tf.keras.datasets.mnist.load_data()"
   ]
  },
  {
   "cell_type": "code",
   "execution_count": 6,
   "id": "c7916926-d631-44df-b246-930428d2b493",
   "metadata": {
    "id": "o8nizlmPHL6X"
   },
   "outputs": [],
   "source": [
    "train_labels = tf.keras.utils.to_categorical(train_labels, 10)\n",
    "test_labels  = tf.keras.utils.to_categorical(test_labels,  10)"
   ]
  },
  {
   "cell_type": "code",
   "execution_count": 7,
   "id": "f250e6a5-5ecb-45a6-9817-49332941dc07",
   "metadata": {
    "id": "N4pGW8hGHL6Z"
   },
   "outputs": [],
   "source": [
    "amount_to_Cut = int(np.floor((np.ma.size(train_images,axis=0)/BATCH_SIZE))*BATCH_SIZE)\n",
    "\n",
    "train_images = train_images[:amount_to_Cut,:,:]\n",
    "train_labels = train_labels[:amount_to_Cut,:]\n"
   ]
  },
  {
   "cell_type": "code",
   "execution_count": 8,
   "id": "f985b000-556d-42bf-878b-b1be92350d8a",
   "metadata": {
    "id": "nhTEmfdeHL6a"
   },
   "outputs": [],
   "source": [
    "train_images = (train_images) / 256  # Normalize the images to [0, 1]\n",
    "train_images = train_images.astype(np.float32)\n",
    "\n",
    "test_images = (test_images) / 256\n",
    "test_images = test_images.astype(np.float32)"
   ]
  },
  {
   "cell_type": "code",
   "execution_count": 25,
   "id": "2c262086-2e8e-43f8-9307-7edee14afa3b",
   "metadata": {
    "colab": {
     "base_uri": "https://localhost:8080/",
     "height": 335
    },
    "id": "JbZ_r2EfHL6b",
    "outputId": "8761080c-5744-4d5c-9317-741446a05ac5"
   },
   "outputs": [
    {
     "data": {
      "text/plain": [
       "<tf.Tensor: shape=(10,), dtype=float32, numpy=\n",
       "array([1.        , 1.        , 1.        , 0.10000002, 1.        ,\n",
       "       1.        , 1.        , 1.        , 1.        , 1.        ],\n",
       "      dtype=float32)>"
      ]
     },
     "execution_count": 25,
     "metadata": {},
     "output_type": "execute_result"
    },
    {
     "data": {
      "image/png": "[encoded data removed]",
      "text/plain": [
       "<Figure size 432x288 with 1 Axes>"
      ]
     },
     "metadata": {
      "needs_background": "light"
     },
     "output_type": "display_data"
    }
   ],
   "source": [
    "plt.plot()\n",
    "plt.imshow(train_images[10,:, :], cmap='gray')\n",
    "#(tf.ones_like(train_labels[10])-train_labels[10])/9\n",
    "tf.ones_like(train_labels[10])-(train_labels[10]*0.9)"
   ]
  },
  {
   "cell_type": "code",
   "execution_count": 10,
   "id": "0be3524c-cd41-436f-a902-72d247902c0a",
   "metadata": {
    "id": "a19856b3-e156-4b71-bca5-c7becc384919"
   },
   "outputs": [],
   "source": [
    "# Batch and shuffle the data\n",
    "dataset = tf.data.Dataset.from_tensor_slices((train_images,train_labels)).shuffle(BUFFER_SIZE).batch(BATCH_SIZE)\n",
    "#train_Output = tf.data.Dataset.from_tensor_slices(train_labels).batch(BATCH_SIZE)"
   ]
  },
  {
   "cell_type": "markdown",
   "id": "32b2d333-e104-40c8-80e0-6bae57a8a0c6",
   "metadata": {
    "tags": []
   },
   "source": [
    "# Custom Layers"
   ]
  },
  {
   "cell_type": "code",
   "execution_count": null,
   "id": "1b103a6b-769a-4577-980b-28a048ae0e21",
   "metadata": {},
   "outputs": [],
   "source": []
  },
  {
   "cell_type": "markdown",
   "id": "0d8df3e3-7d2f-4dc4-a999-487ea1882b64",
   "metadata": {
    "tags": []
   },
   "source": [
    "# Custom Models"
   ]
  },
  {
   "cell_type": "markdown",
   "id": "05ca9fa4-8ba5-4e89-b656-b4c96e8e63e8",
   "metadata": {
    "id": "d9ccb4d2-c3bf-449c-81b8-67be386faba2"
   },
   "source": [
    "## Generator"
   ]
  },
  {
   "cell_type": "code",
   "execution_count": 32,
   "id": "e1f5d16d-029d-4022-b83e-f1177d53df3e",
   "metadata": {
    "id": "fc6901fb-6955-4ce3-b2bc-e022a1444cc3"
   },
   "outputs": [],
   "source": [
    "def make_generator_model(latent_dim,class_Amt):\n",
    "    model = tf.keras.Sequential()\n",
    "    model.add(layers.Dense(7*7*256, use_bias=False, input_shape=(latent_dim+class_Amt,)))\n",
    "    model.add(layers.BatchNormalization())\n",
    "    model.add(layers.LeakyReLU())\n",
    "\n",
    "    model.add(layers.Reshape((7, 7, 256)))\n",
    "    assert model.output_shape == (None, 7, 7, 256)  # Note: None is the batch size\n",
    "\n",
    "    model.add(layers.Conv2DTranspose(128, (5, 5), strides=(1, 1), padding='same', use_bias=False))\n",
    "    assert model.output_shape == (None, 7, 7, 128)\n",
    "    model.add(layers.BatchNormalization())\n",
    "    model.add(layers.LeakyReLU())\n",
    "\n",
    "    model.add(layers.Conv2DTranspose(64, (5, 5), strides=(2, 2), padding='same', use_bias=False))\n",
    "    assert model.output_shape == (None, 14, 14, 64)\n",
    "    model.add(layers.BatchNormalization())\n",
    "    model.add(layers.LeakyReLU())\n",
    "\n",
    "    model.add(layers.Conv2DTranspose(1, (5, 5), strides=(2, 2), padding='same', use_bias=False, activation='sigmoid'))\n",
    "    assert model.output_shape == (None, 28, 28, 1)\n",
    "\n",
    "    return model"
   ]
  },
  {
   "cell_type": "markdown",
   "id": "5bc0cf8c-8cc9-40d9-94fb-30f3e97914b3",
   "metadata": {
    "id": "d9ccb4d2-c3bf-449c-81b8-67be386faba2"
   },
   "source": [
    "## Discriminator"
   ]
  },
  {
   "cell_type": "code",
   "execution_count": 35,
   "id": "8a35d2b6-ee3a-4076-af59-c9cdbb8ae9e5",
   "metadata": {
    "id": "aa937314-8706-4683-bc3b-2af54cbb07ff"
   },
   "outputs": [],
   "source": [
    "def make_discriminator_model():\n",
    "    model = tf.keras.Sequential()\n",
    "    model.add(layers.Conv2D(64, (5, 5), strides=(2, 2), padding='same',\n",
    "                                     input_shape=[28, 28, 1]))\n",
    "    model.add(layers.LeakyReLU())\n",
    "    model.add(layers.Dropout(0.3))\n",
    "\n",
    "    model.add(layers.Conv2D(128, (5, 5), strides=(2, 2), padding='same'))\n",
    "    model.add(layers.LeakyReLU())\n",
    "    model.add(layers.Dropout(0.3))\n",
    "\n",
    "    model.add(layers.Flatten())\n",
    "    model.add(layers.Dense(10))\n",
    "\n",
    "    return model"
   ]
  },
  {
   "cell_type": "markdown",
   "id": "da8b2062-c630-4348-8618-f2a1b0b0acfd",
   "metadata": {
    "id": "61f99800-9e43-455b-9685-d1e606e9be1b"
   },
   "source": [
    "# Define Loss and Optimizers"
   ]
  },
  {
   "cell_type": "code",
   "execution_count": 34,
   "id": "8e3b563f-afed-4534-9d5f-f9ea679f1576",
   "metadata": {
    "id": "68a2fcc5-7dc7-47f5-9ba7-e3d01ec0320f"
   },
   "outputs": [],
   "source": [
    "# This method returns a helper function to compute cross entropy loss\n",
    "cross_entropy_categorical = tf.keras.losses.CategoricalCrossentropy(from_logits=True)\n",
    "cross_entropy_binary = tf.keras.losses.BinaryCrossentropy(from_logits=True)\n"
   ]
  },
  {
   "cell_type": "code",
   "execution_count": 14,
   "id": "b71f9361-8f49-4f89-ba7f-7ca8eaf6efe9",
   "metadata": {
    "id": "c8a1a33a-4922-4caa-9e0f-6a97b572b231"
   },
   "outputs": [],
   "source": [
    "def discriminator_loss(y_pred,y_real):\n",
    "    return cross_entropy_categorical(y_real,y_pred)"
   ]
  },
  {
   "cell_type": "code",
   "execution_count": 28,
   "id": "6e9069a8-464d-4ba1-a69e-6f37bbf1bd5d",
   "metadata": {
    "id": "d7491e96-92b4-4097-91af-0eac8c9babf2"
   },
   "outputs": [],
   "source": [
    "def generator_loss(y_pred,y_real):\n",
    "\n",
    "\n",
    "    indices = tf.math.argmax(y_real,axis=1)\n",
    "\n",
    "    arr = []\n",
    "    for i in range(BATCH_SIZE):\n",
    "      arr.append(y_pred[i,indices[i]])\n",
    "\n",
    "    final_cross_entropy = cross_entropy_binary(tf.zeros_like(indices),arr)\n",
    "    \n",
    "    #gen_y_target = (tf.ones_like(train_labels[10])-train_labels[10])/9\n",
    "    \n",
    "    return final_cross_entropy\n",
    "\n",
    "\n",
    "\n",
    "\n"
   ]
  },
  {
   "cell_type": "markdown",
   "id": "17742300-b393-4f89-8c77-96b8715daeb2",
   "metadata": {
    "id": "2eaaed33-0ff9-49db-a25b-287d749fc7b2"
   },
   "source": [
    "# Define training loop"
   ]
  },
  {
   "cell_type": "code",
   "execution_count": 27,
   "id": "a2b3fc29-a482-4214-8243-84a948862edf",
   "metadata": {
    "id": "8ccd0a2a-ac70-4cd7-a166-43352d3bf9c5"
   },
   "outputs": [],
   "source": [
    "EPOCHS = 500\n",
    "noise_dim = 128\n",
    "num_examples_to_generate = 9\n",
    "\n",
    "# You will reuse this seed overtime (so it's easier)\n",
    "# to visualize progress in the animated GIF)\n",
    "\n",
    "rand_y = [0,1,2,3,4,5,6,7,8]\n",
    "rand_y = tf.keras.utils.to_categorical(rand_y, 10)\n",
    "#print(rand_y)\n",
    "#rand_y = np.append(np.ones((num_examples_to_generate,1)),np.zeros((num_examples_to_generate, 9)),axis=1)\n",
    "\n",
    "seed = np.append(rand_y,tf.random.normal([num_examples_to_generate, noise_dim]),axis=1)\n"
   ]
  },
  {
   "cell_type": "code",
   "execution_count": 93,
   "id": "a5b95185-1d24-46b9-9546-14fb83f9c0cb",
   "metadata": {},
   "outputs": [],
   "source": [
    "class YoanoGAN(tf.keras.Model):\n",
    "    def __init__(self, discriminator, generator, latent_dim,lmbd=0.7):\n",
    "        super(YoanoGAN, self).__init__()\n",
    "        self.discriminator = discriminator\n",
    "        self.generator = generator\n",
    "        \n",
    "        self.latent_dim = latent_dim\n",
    "        self.lmbd = lmbd\n",
    "        \n",
    "        self.gen_loss_tracker = tf.keras.metrics.Mean(name=\"generator_loss\")\n",
    "        self.disc_loss_tracker = tf.keras.metrics.Mean(name=\"discriminator_loss\")\n",
    "        self.norm_tracker = tf.keras.metrics.Mean(name=\"gen_output_norm\")\n",
    "        self.w_noise_accuracy_tracker = tf.keras.metrics.Mean(name=\"w_noise_accuracy\")\n",
    "        self.wo_noise_accuracy_tracker = tf.keras.metrics.Mean(name=\"wo_noise_accuracy\")\n",
    "        \n",
    "        \n",
    "    @property\n",
    "    def metrics(self):\n",
    "        return [self.gen_loss_tracker, self.disc_loss_tracker,self.norm_tracker,self.w_noise_accuracy_tracker,self.wo_noise_accuracy_tracker]\n",
    "    \n",
    "    def get_accuracy(self,x,y_real):\n",
    "        x = tf.cast(x,tf.int64)\n",
    "        y_real = tf.cast(y_real,tf.int64)\n",
    "        \n",
    "        predictions = tf.math.argmax(self.discriminator(x),output_type=tf.dtypes.int64,axis=1)\n",
    "        return (tf.math.count_nonzero(tf.math.argmax(y_real,axis=1)-predictions))/(tf.cast(tf.shape(x)[0],tf.int64))\n",
    "    \n",
    "    def get_norm(self,noise):\n",
    "        norm_calculated = tf.norm(noise,ord=2,axis=[1,2])\n",
    "        norm_mean = tf.math.reduce_mean(norm_calculated)\n",
    "        return norm_mean\n",
    "    \n",
    "    def compile(self, d_optimizer, g_optimizer, dis_loss_fn, gen_loss_fn):\n",
    "        super(YoanoGAN, self).compile()\n",
    "        self.d_optimizer = d_optimizer\n",
    "        self.g_optimizer = g_optimizer\n",
    "        self.dis_loss_fn = dis_loss_fn\n",
    "        self.gen_loss_fn = gen_loss_fn\n",
    "\n",
    "    def train_step(self, data):\n",
    "        \n",
    "        #Import data and infer batch size\n",
    "        x, y = data\n",
    "        BATCH_SIZE = tf.shape(x)[0]\n",
    "        \n",
    "        #Cast x to float32 to match with generator output type (Otherwise adding the two gives an error) \n",
    "        x = tf.cast(x, tf.float32)\n",
    "        \n",
    "        #Append normal noise and one hot labeled y data together for generator input.\n",
    "        gen_in = tf.experimental.numpy.append(y, tf.random.normal([BATCH_SIZE, self.latent_dim]), axis=1)\n",
    "        \n",
    "        with tf.GradientTape() as gen_tape, tf.GradientTape() as disc_tape:\n",
    "            \n",
    "            #Run the generator and generate noises\n",
    "            generated_noise = self.generator(gen_in, training=True)\n",
    "            generated_noise = tf.squeeze(generated_noise * self.lmbd) #Squeezing to remove axis-1 with 1 dimension.\n",
    "            \n",
    "            #Check discriminator output by adding noise and x of dataset.\n",
    "            disc_output = self.discriminator(generated_noise+x, training=True)\n",
    "            \n",
    "            #Calculate loss values for both models.\n",
    "            gen_loss = self.gen_loss_fn(disc_output,y)\n",
    "            disc_loss = self.dis_loss_fn(disc_output,y)\n",
    "            \n",
    "        \n",
    "        #Calculate and apply gradients for both models.\n",
    "        if(True):\n",
    "            gradients_of_generator = gen_tape.gradient(gen_loss, self.generator.trainable_variables)\n",
    "            self.g_optimizer.apply_gradients(zip(gradients_of_generator, self.generator.trainable_variables))\n",
    "    \n",
    "        if(True):\n",
    "            gradients_of_discriminator = disc_tape.gradient(disc_loss, self.discriminator.trainable_variables)\n",
    "            self.d_optimizer.apply_gradients(zip(gradients_of_discriminator, self.discriminator.trainable_variables))\n",
    "        \n",
    "        \n",
    "        \n",
    "        wo_noise_acc = self.get_accuracy(x,y)\n",
    "        w_noise_acc = self.get_accuracy(generated_noise+x,y)\n",
    "        norm = self.get_norm(generated_noise)\n",
    "        \n",
    "        \n",
    "        \n",
    "        #Update and return metrics\n",
    "        self.gen_loss_tracker.update_state(gen_loss)\n",
    "        self.disc_loss_tracker.update_state(disc_loss)\n",
    "        self.norm_tracker.update_state(norm)\n",
    "        self.w_noise_accuracy_tracker.update_state(w_noise_acc)\n",
    "        self.wo_noise_accuracy_tracker.update_state(wo_noise_acc)\n",
    "        return {\n",
    "            \"g_loss\": self.gen_loss_tracker.result(),\n",
    "            \"d_loss\": self.disc_loss_tracker.result(),\n",
    "            \"norm\": self.norm_tracker.result(),\n",
    "            \"With Noise Accuracy\": self.w_noise_accuracy_tracker.result(),\n",
    "            \"Without Noise Accuracy\": self.wo_noise_accuracy_tracker.result()\n",
    "        }\n"
   ]
  },
  {
   "cell_type": "code",
   "execution_count": 116,
   "id": "e6820ea1-3797-4d87-800d-7a549018aa16",
   "metadata": {},
   "outputs": [],
   "source": [
    "generator = make_generator_model(latent_dim=20,class_Amt=10)\n",
    "discriminator = make_discriminator_model()\n",
    "\n",
    "yoano_gan = YoanoGAN(\n",
    "    discriminator=discriminator, generator=generator, latent_dim=20,lmbd=0.7\n",
    ")\n",
    "\n",
    "yoano_gan.compile(\n",
    "    d_optimizer = tf.keras.optimizers.Adam(learning_rate=0.0003),\n",
    "    g_optimizer = tf.keras.optimizers.Adam(learning_rate=0.0003),\n",
    "    dis_loss_fn = discriminator_loss,\n",
    "    gen_loss_fn = generator_loss\n",
    ")\n",
    "\n",
    "\n"
   ]
  },
  {
   "cell_type": "code",
   "execution_count": 117,
   "id": "fe6e4d59-85a3-4043-9c00-7e2b84e40dc5",
   "metadata": {},
   "outputs": [],
   "source": [
    "tf.config.run_functions_eagerly(True) #Figure out how to do graph execution"
   ]
  },
  {
   "cell_type": "code",
   "execution_count": 118,
   "id": "b4107b4f-ac33-450b-b964-a66249bbe09b",
   "metadata": {},
   "outputs": [
    {
     "name": "stdout",
     "output_type": "stream",
     "text": [
      "468/468 [==============================] - 163s 348ms/step - g_loss: 0.7934 - d_loss: 2.1951 - norm: 10.2269 - With Noise Accuracy: 0.5932 - Without Noise Accuracy: 0.8869\n"
     ]
    },
    {
     "data": {
      "text/plain": [
       "<keras.callbacks.History at 0x1d9eb85cca0>"
      ]
     },
     "execution_count": 118,
     "metadata": {},
     "output_type": "execute_result"
    }
   ],
   "source": [
    "yoano_gan.fit(dataset,batch_size=128, epochs=1)"
   ]
  },
  {
   "cell_type": "code",
   "execution_count": 119,
   "id": "1361a724-0ab1-497d-a24c-7ffc809c93f1",
   "metadata": {
    "id": "8ccd0a2a-ac70-4cd7-a166-43352d3bf9c5"
   },
   "outputs": [],
   "source": [
    "EPOCHS = 500\n",
    "latent_dim = 20\n",
    "num_examples_to_generate = 9\n",
    "\n",
    "# You will reuse this seed overtime (so it's easier)\n",
    "# to visualize progress in the animated GIF)\n",
    "\n",
    "rand_y = [0,1,2,3,4,5,6,7,8]\n",
    "rand_y = tf.keras.utils.to_categorical(rand_y, 10)\n",
    "\n",
    "seed = np.append(rand_y,tf.random.normal([num_examples_to_generate, latent_dim]),axis=1)\n"
   ]
  },
  {
   "cell_type": "code",
   "execution_count": 120,
   "id": "bf34d809-4d5e-4e7d-bf7d-163bd7a2e49c",
   "metadata": {},
   "outputs": [
    {
     "data": {
      "image/png": "[encoded data removed]",
      "text/plain": [
       "<Figure size 504x720 with 9 Axes>"
      ]
     },
     "metadata": {
      "needs_background": "light"
     },
     "output_type": "display_data"
    },
    {
     "data": {
      "text/plain": [
       "0.42067218"
      ]
     },
     "execution_count": 120,
     "metadata": {},
     "output_type": "execute_result"
    }
   ],
   "source": [
    "generated_images = yoano_gan.generator(seed) * 0.7\n",
    "fig = plt.figure(figsize=(7, 10))\n",
    "fig.suptitle('Generated Noises', fontsize=15)\n",
    "for i in range(generated_images.shape[0]):\n",
    "    plt.subplot(3, 3, i+1)\n",
    "    plt.title(str(i))\n",
    "    plt.imshow(generated_images[i, :, :, 0], cmap='gray',vmin=0, vmax=1)\n",
    "    plt.axis('off')\n",
    "\n",
    "plt.show()\n",
    "np.mean(generated_images)"
   ]
  },
  {
   "cell_type": "code",
   "execution_count": 123,
   "id": "0e381601-d776-4277-a1b4-69c1bd01203e",
   "metadata": {},
   "outputs": [],
   "source": [
    "def test_model_w_attacker():\n",
    "  #Prepare y values and random values for input to generator\n",
    "  rand_y_in = tf.experimental.numpy.append(test_labels, tf.random.normal([test_labels.shape[0], latent_dim]), axis=1)\n",
    "  \n",
    "  #Generate noises for rand_y_in\n",
    "  generated_noise = yoano_gan.generator(rand_y_in)\n",
    "  generated_noise = generated_noise * 0.7\n",
    "  generated_noise = tf.squeeze(generated_noise)\n",
    "\n",
    "  #Add noises to x images\n",
    "  noisy_images = generated_noise.numpy()+test_images\n",
    "\n",
    "  #Create a new attacker model that has the same architecture as GAN discriminator, and try to fit to noisy x inputs\n",
    "  attacker_model = make_discriminator_model()\n",
    "  attacker_model.compile(optimizer=tf.keras.optimizers.Adam(),loss=cross_entropy_categorical,metrics=[\"accuracy\"])\n",
    "  return attacker_model.fit(noisy_images,test_labels,validation_split=0.3,epochs=2)"
   ]
  },
  {
   "cell_type": "code",
   "execution_count": 124,
   "id": "53cd6892-3460-4bb7-9aa7-ff25b4fc086b",
   "metadata": {},
   "outputs": [
    {
     "name": "stdout",
     "output_type": "stream",
     "text": [
      "Epoch 1/2\n",
      "  1/219 [..............................] - ETA: 21s - loss: 2.3006 - accuracy: 0.0938"
     ]
    },
    {
     "name": "stderr",
     "output_type": "stream",
     "text": [
      "C:\\Users\\PC\\miniconda3\\envs\\tf\\lib\\site-packages\\tensorflow\\python\\data\\ops\\structured_function.py:264: UserWarning: Even though the `tf.config.experimental_run_functions_eagerly` option is set, this option does not apply to tf.data functions. To force eager execution of tf.data functions, please use `tf.data.experimental.enable_debug_mode()`.\n",
      "  warnings.warn(\n"
     ]
    },
    {
     "name": "stdout",
     "output_type": "stream",
     "text": [
      "219/219 [==============================] - 4s 18ms/step - loss: 0.2841 - accuracy: 0.9094 - val_loss: 0.0184 - val_accuracy: 0.9963\n",
      "Epoch 2/2\n",
      "219/219 [==============================] - 4s 18ms/step - loss: 0.0122 - accuracy: 0.9964 - val_loss: 0.0147 - val_accuracy: 0.9957\n"
     ]
    },
    {
     "data": {
      "text/plain": [
       "<keras.callbacks.History at 0x1d9eddec280>"
      ]
     },
     "execution_count": 124,
     "metadata": {},
     "output_type": "execute_result"
    }
   ],
   "source": [
    "test_model_w_attacker()"
   ]
  },
  {
   "cell_type": "code",
   "execution_count": null,
   "id": "464b72dc-c327-4ec4-9330-f7467be76c01",
   "metadata": {},
   "outputs": [],
   "source": []
  }
 ],
 "metadata": {
  "kernelspec": {
   "display_name": "Python 3 (ipykernel)",
   "language": "python",
   "name": "python3"
  },
  "language_info": {
   "codemirror_mode": {
    "name": "ipython",
    "version": 3
   },
   "file_extension": ".py",
   "mimetype": "text/x-python",
   "name": "python",
   "nbconvert_exporter": "python",
   "pygments_lexer": "ipython3",
   "version": "3.9.12"
  }
 },
 "nbformat": 4,
 "nbformat_minor": 5
}
