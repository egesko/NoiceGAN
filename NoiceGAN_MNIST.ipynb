{
  "cells": [
    {
      "cell_type": "code",
      "execution_count": 1,
      "id": "9b898c12-9136-4195-8da9-dfcec6fcc45c",
      "metadata": {
        "id": "9b898c12-9136-4195-8da9-dfcec6fcc45c"
      },
      "outputs": [],
      "source": [
        "import glob\n",
        "import imageio\n",
        "import matplotlib.pyplot as plt\n",
        "import numpy as np\n",
        "import os\n",
        "import PIL\n",
        "from tensorflow.keras import layers\n",
        "import time\n",
        "import tensorflow as tf\n",
        "from IPython import display\n",
        "from IPython.display import clear_output\n",
        "#from sklearn.model_selection import train_test_split\n",
        "#from sklearn.utils import shuffle"
      ]
    },
    {
      "cell_type": "markdown",
      "id": "4dc7fcf6-bc9c-4bb2-a687-18f46a859dd0",
      "metadata": {
        "id": "4dc7fcf6-bc9c-4bb2-a687-18f46a859dd0"
      },
      "source": [
        "# Load and prepare dataset"
      ]
    },
    {
      "cell_type": "code",
      "execution_count": 2,
      "id": "33e6bace-643c-4c8f-81a1-d617ec0f8231",
      "metadata": {
        "id": "33e6bace-643c-4c8f-81a1-d617ec0f8231"
      },
      "outputs": [],
      "source": [
        "(train_images, train_labels), (_, _) = tf.keras.datasets.mnist.load_data()"
      ]
    },
    {
      "cell_type": "code",
      "source": [
        "#train_images, train_labels = shuffle(train_images, train_labels, random_state=0)\n",
        "train_labels = tf.keras.utils.to_categorical(train_labels, 10)"
      ],
      "metadata": {
        "id": "E5aeErtYttJq"
      },
      "id": "E5aeErtYttJq",
      "execution_count": 3,
      "outputs": []
    },
    {
      "cell_type": "code",
      "source": [
        "train_images = (train_images) / 256  # Normalize the images to [0, 1]"
      ],
      "metadata": {
        "id": "PaYRrz0DuAa2"
      },
      "id": "PaYRrz0DuAa2",
      "execution_count": 4,
      "outputs": []
    },
    {
      "cell_type": "code",
      "source": [
        "plt.plot()\n",
        "plt.imshow(train_images[10,:, :], cmap='gray')\n",
        "(tf.ones_like(train_labels[10])-train_labels[10])/9"
      ],
      "metadata": {
        "colab": {
          "base_uri": "https://localhost:8080/",
          "height": 335
        },
        "id": "nCmNXkFu1DEw",
        "outputId": "25518906-1d70-4b26-8bc8-9a2146651d5a"
      },
      "id": "nCmNXkFu1DEw",
      "execution_count": 5,
      "outputs": [
        {
          "output_type": "execute_result",
          "data": {
            "text/plain": [
              "<tf.Tensor: shape=(10,), dtype=float32, numpy=\n",
              "array([0.11111111, 0.11111111, 0.11111111, 0.        , 0.11111111,\n",
              "       0.11111111, 0.11111111, 0.11111111, 0.11111111, 0.11111111],\n",
              "      dtype=float32)>"
            ]
          },
          "metadata": {},
          "execution_count": 5
        },
        {
          "output_type": "display_data",
          "data": {
            "text/plain": [
              "<Figure size 432x288 with 1 Axes>"
            ],
            "image/png": "[encoded data removed]"
          },
          "metadata": {
            "needs_background": "light"
          }
        }
      ]
    },
    {
      "cell_type": "code",
      "execution_count": 6,
      "id": "0e4e11d8-dc5e-459e-b6f6-af0a3d832df5",
      "metadata": {
        "id": "0e4e11d8-dc5e-459e-b6f6-af0a3d832df5"
      },
      "outputs": [],
      "source": [
        "BUFFER_SIZE = 60000\n",
        "BATCH_SIZE = 256"
      ]
    },
    {
      "cell_type": "code",
      "execution_count": 7,
      "id": "a19856b3-e156-4b71-bca5-c7becc384919",
      "metadata": {
        "id": "a19856b3-e156-4b71-bca5-c7becc384919"
      },
      "outputs": [],
      "source": [
        "# Batch and shuffle the data\n",
        "dataset = tf.data.Dataset.from_tensor_slices((train_images,train_labels)).shuffle(BUFFER_SIZE).batch(BATCH_SIZE)\n",
        "#train_Output = tf.data.Dataset.from_tensor_slices(train_labels).batch(BATCH_SIZE)"
      ]
    },
    {
      "cell_type": "markdown",
      "id": "e7ccd168-0851-4095-8133-8f2ab00893aa",
      "metadata": {
        "id": "e7ccd168-0851-4095-8133-8f2ab00893aa"
      },
      "source": [
        "# Create Models"
      ]
    },
    {
      "cell_type": "markdown",
      "id": "1767b2ba-1c4b-4468-9862-4f9e2b665b69",
      "metadata": {
        "id": "1767b2ba-1c4b-4468-9862-4f9e2b665b69"
      },
      "source": [
        "### Generator"
      ]
    },
    {
      "cell_type": "code",
      "execution_count": 8,
      "id": "fc6901fb-6955-4ce3-b2bc-e022a1444cc3",
      "metadata": {
        "id": "fc6901fb-6955-4ce3-b2bc-e022a1444cc3"
      },
      "outputs": [],
      "source": [
        "def make_generator_model():\n",
        "    model = tf.keras.Sequential()\n",
        "    model.add(layers.Dense(7*7*256, use_bias=False, input_shape=(20,)))\n",
        "    model.add(layers.BatchNormalization())\n",
        "    model.add(layers.LeakyReLU())\n",
        "\n",
        "    model.add(layers.Reshape((7, 7, 256)))\n",
        "    assert model.output_shape == (None, 7, 7, 256)  # Note: None is the batch size\n",
        "\n",
        "    model.add(layers.Conv2DTranspose(128, (5, 5), strides=(1, 1), padding='same', use_bias=False))\n",
        "    assert model.output_shape == (None, 7, 7, 128)\n",
        "    model.add(layers.BatchNormalization())\n",
        "    model.add(layers.LeakyReLU())\n",
        "\n",
        "    model.add(layers.Conv2DTranspose(64, (5, 5), strides=(2, 2), padding='same', use_bias=False))\n",
        "    assert model.output_shape == (None, 14, 14, 64)\n",
        "    model.add(layers.BatchNormalization())\n",
        "    model.add(layers.LeakyReLU())\n",
        "\n",
        "    model.add(layers.Conv2DTranspose(1, (5, 5), strides=(2, 2), padding='same', use_bias=False, activation='sigmoid'))\n",
        "    assert model.output_shape == (None, 28, 28, 1)\n",
        "\n",
        "    return model"
      ]
    },
    {
      "cell_type": "code",
      "execution_count": 9,
      "id": "cb7a2cfe-0392-4986-8096-5c9ca350e564",
      "metadata": {
        "id": "cb7a2cfe-0392-4986-8096-5c9ca350e564",
        "outputId": "b1e8fc75-ecbd-4490-d563-46fde0cc1221",
        "colab": {
          "base_uri": "https://localhost:8080/",
          "height": 283
        }
      },
      "outputs": [
        {
          "output_type": "execute_result",
          "data": {
            "text/plain": [
              "<matplotlib.image.AxesImage at 0x7fa40fa7c6d0>"
            ]
          },
          "metadata": {},
          "execution_count": 9
        },
        {
          "output_type": "display_data",
          "data": {
            "text/plain": [
              "<Figure size 432x288 with 1 Axes>"
            ],
            "image/png": "[encoded data removed]"
          },
          "metadata": {
            "needs_background": "light"
          }
        }
      ],
      "source": [
        "generator = make_generator_model()\n",
        "\n",
        "noise = tf.random.normal([1, 20])\n",
        "generated_image = generator(noise, training=False)\n",
        "\n",
        "plt.imshow(generated_image[0, :, :, 0], cmap='gray')"
      ]
    },
    {
      "cell_type": "code",
      "execution_count": 10,
      "id": "0757d848-35f2-43fe-9bcf-0783eb9961eb",
      "metadata": {
        "jupyter": {
          "source_hidden": true
        },
        "tags": [],
        "id": "0757d848-35f2-43fe-9bcf-0783eb9961eb",
        "outputId": "8a9d82ec-42b5-4e91-f102-a95d9916a04f",
        "colab": {
          "base_uri": "https://localhost:8080/"
        }
      },
      "outputs": [
        {
          "output_type": "execute_result",
          "data": {
            "text/plain": [
              "TensorShape([1, 20])"
            ]
          },
          "metadata": {},
          "execution_count": 10
        }
      ],
      "source": [
        "noise.shape"
      ]
    },
    {
      "cell_type": "markdown",
      "id": "d9ccb4d2-c3bf-449c-81b8-67be386faba2",
      "metadata": {
        "id": "d9ccb4d2-c3bf-449c-81b8-67be386faba2"
      },
      "source": [
        "### Discriminator"
      ]
    },
    {
      "cell_type": "code",
      "execution_count": 11,
      "id": "aa937314-8706-4683-bc3b-2af54cbb07ff",
      "metadata": {
        "id": "aa937314-8706-4683-bc3b-2af54cbb07ff"
      },
      "outputs": [],
      "source": [
        "def make_discriminator_model():\n",
        "    model = tf.keras.Sequential()\n",
        "    model.add(layers.Conv2D(64, (5, 5), strides=(2, 2), padding='same',\n",
        "                                     input_shape=[28, 28, 1]))\n",
        "    model.add(layers.LeakyReLU())\n",
        "    model.add(layers.Dropout(0.3))\n",
        "\n",
        "    model.add(layers.Conv2D(128, (5, 5), strides=(2, 2), padding='same'))\n",
        "    model.add(layers.LeakyReLU())\n",
        "    model.add(layers.Dropout(0.3))\n",
        "\n",
        "    model.add(layers.Flatten())\n",
        "    model.add(layers.Dense(10))\n",
        "\n",
        "    return model"
      ]
    },
    {
      "cell_type": "code",
      "execution_count": 12,
      "id": "b59749ff-cb51-42e7-8bf5-2aadd385dd08",
      "metadata": {
        "id": "b59749ff-cb51-42e7-8bf5-2aadd385dd08",
        "outputId": "4c64370c-9b07-4d3a-e3fd-5ab21026bf52",
        "colab": {
          "base_uri": "https://localhost:8080/"
        }
      },
      "outputs": [
        {
          "output_type": "stream",
          "name": "stdout",
          "text": [
            "[[-0.04805917 -0.01581227 -0.0063852  -0.05612658 -0.0477504  -0.17651083\n",
            "   0.00576595  0.03580656  0.02768727  0.02266953]]\n"
          ]
        }
      ],
      "source": [
        "discriminator = make_discriminator_model()\n",
        "decision = discriminator(generated_image)\n",
        "print (decision.numpy())"
      ]
    },
    {
      "cell_type": "markdown",
      "id": "61f99800-9e43-455b-9685-d1e606e9be1b",
      "metadata": {
        "id": "61f99800-9e43-455b-9685-d1e606e9be1b"
      },
      "source": [
        "# Define Loss and Optimizers"
      ]
    },
    {
      "cell_type": "code",
      "execution_count": 13,
      "id": "68a2fcc5-7dc7-47f5-9ba7-e3d01ec0320f",
      "metadata": {
        "id": "68a2fcc5-7dc7-47f5-9ba7-e3d01ec0320f"
      },
      "outputs": [],
      "source": [
        "# This method returns a helper function to compute cross entropy loss\n",
        "cross_entropy_categorical = tf.keras.losses.CategoricalCrossentropy(from_logits=True)\n",
        "cross_entropy_binary = tf.keras.losses.BinaryCrossentropy(from_logits=True)\n"
      ]
    },
    {
      "cell_type": "code",
      "execution_count": 14,
      "id": "c8a1a33a-4922-4caa-9e0f-6a97b572b231",
      "metadata": {
        "id": "c8a1a33a-4922-4caa-9e0f-6a97b572b231"
      },
      "outputs": [],
      "source": [
        "def discriminator_loss(y_pred,y_real):\n",
        "    return cross_entropy_categorical(y_real,y_pred)"
      ]
    },
    {
      "cell_type": "code",
      "execution_count": 15,
      "id": "d7491e96-92b4-4097-91af-0eac8c9babf2",
      "metadata": {
        "id": "d7491e96-92b4-4097-91af-0eac8c9babf2"
      },
      "outputs": [],
      "source": [
        "def generator_loss(y_pred,y_real):\n",
        "    return cross_entropy_categorical((tf.ones_like(y_real)-y_real),y_pred) #Add regularizer\n"
      ]
    },
    {
      "cell_type": "code",
      "source": [
        "def disc_evaluate(x,y):\n",
        "\n",
        "  predictions = np.argmax(discriminator(x).numpy(),axis=1)\n",
        "  \n",
        "  return 1-((np.count_nonzero(np.argmax(y,axis=1)-predictions))/BATCH_SIZE)"
      ],
      "metadata": {
        "id": "IHYgi0q8fZw-"
      },
      "id": "IHYgi0q8fZw-",
      "execution_count": 16,
      "outputs": []
    },
    {
      "cell_type": "code",
      "source": [
        "def gen_norm_mean(x):\n",
        "  flattened_x = np.reshape(x,(BATCH_SIZE,28*28))\n",
        "  norm_calculated = np.linalg.norm(flattened_x,ord=2,axis=1)\n",
        "  norm_mean = np.mean(norm_calculated)\n",
        "  return norm_mean"
      ],
      "metadata": {
        "id": "x5NI5yGUn_9B"
      },
      "id": "x5NI5yGUn_9B",
      "execution_count": 17,
      "outputs": []
    },
    {
      "cell_type": "code",
      "execution_count": 18,
      "id": "5435e5a5-a891-43b2-8041-d4c14a9ef8ff",
      "metadata": {
        "id": "5435e5a5-a891-43b2-8041-d4c14a9ef8ff"
      },
      "outputs": [],
      "source": [
        "generator_optimizer = tf.keras.optimizers.Adam(1e-1)\n",
        "discriminator_optimizer = tf.keras.optimizers.Adam(1e-4)\n"
      ]
    },
    {
      "cell_type": "code",
      "execution_count": 19,
      "id": "5e99dc41-2a9d-46b0-ac7c-1bb05ddfee44",
      "metadata": {
        "id": "5e99dc41-2a9d-46b0-ac7c-1bb05ddfee44"
      },
      "outputs": [],
      "source": [
        "checkpoint_dir = './training_checkpoints'\n",
        "checkpoint_prefix = os.path.join(checkpoint_dir, \"ckpt\")\n",
        "checkpoint = tf.train.Checkpoint(generator_optimizer=generator_optimizer,\n",
        "                                 discriminator_optimizer=discriminator_optimizer,\n",
        "                                 generator=generator,\n",
        "                                 discriminator=discriminator)\n"
      ]
    },
    {
      "cell_type": "markdown",
      "id": "2eaaed33-0ff9-49db-a25b-287d749fc7b2",
      "metadata": {
        "id": "2eaaed33-0ff9-49db-a25b-287d749fc7b2"
      },
      "source": [
        "# Define training loop"
      ]
    },
    {
      "cell_type": "code",
      "execution_count": 20,
      "id": "8ccd0a2a-ac70-4cd7-a166-43352d3bf9c5",
      "metadata": {
        "id": "8ccd0a2a-ac70-4cd7-a166-43352d3bf9c5"
      },
      "outputs": [],
      "source": [
        "EPOCHS = 500\n",
        "noise_dim = 20\n",
        "num_examples_to_generate = 16\n",
        "\n",
        "# You will reuse this seed overtime (so it's easier)\n",
        "# to visualize progress in the animated GIF)\n",
        "seed = tf.random.normal([num_examples_to_generate, noise_dim])\n"
      ]
    },
    {
      "cell_type": "code",
      "execution_count": 21,
      "id": "166f6307-525a-46f3-9cf9-448900600dc6",
      "metadata": {
        "id": "166f6307-525a-46f3-9cf9-448900600dc6"
      },
      "outputs": [],
      "source": [
        "# Notice the use of `tf.function`\n",
        "# This annotation causes the function to be \"compiled\".\n",
        "@tf.function\n",
        "def train_step(train_X,train_Y):\n",
        "    train_X = tf.cast(train_X, tf.float32)\n",
        "    rand_in = tf.random.normal([BATCH_SIZE, noise_dim])\n",
        "\n",
        "    with tf.GradientTape() as gen_tape, tf.GradientTape() as disc_tape:\n",
        "      \n",
        "      generated_noise = generator(rand_in, training=True)\n",
        "      generated_noise = tf.squeeze(generated_noise)\n",
        "      \n",
        "      disc_output = discriminator(generated_noise+train_X, training=True)\n",
        "\n",
        "      gen_loss = generator_loss(disc_output,train_Y)\n",
        "      disc_loss = discriminator_loss(disc_output, train_Y)\n",
        "\n",
        "    gradients_of_generator = gen_tape.gradient(gen_loss, generator.trainable_variables)\n",
        "    gradients_of_discriminator = disc_tape.gradient(disc_loss, discriminator.trainable_variables)\n",
        "\n",
        "    generator_optimizer.apply_gradients(zip(gradients_of_generator, generator.trainable_variables))\n",
        "    discriminator_optimizer.apply_gradients(zip(gradients_of_discriminator, discriminator.trainable_variables))\n",
        "\n",
        "    return gen_loss,disc_loss\n"
      ]
    },
    {
      "cell_type": "code",
      "execution_count": 22,
      "id": "db65c45a-8d89-4116-8e8b-7cc613f98ce9",
      "metadata": {
        "id": "db65c45a-8d89-4116-8e8b-7cc613f98ce9"
      },
      "outputs": [],
      "source": [
        "def train(dataset, epochs):\n",
        "  \n",
        "  #Initialize arrays to save metrics (to plot)\n",
        "  norm_evals = []\n",
        "  disc_w_noise_accuracy = []\n",
        "  disc_wo_noise_accuracy = []\n",
        "  gen_loss_evals = []\n",
        "  disc_loss_evals = []\n",
        "  \n",
        "  for epoch in range(epochs):\n",
        "    print(\"epoch: \"+ str(epoch))\n",
        "    gen_loss_sum = 0\n",
        "    disc_loss_sum = 0\n",
        "\n",
        "    start = time.time()\n",
        "\n",
        "    for x,y in dataset:\n",
        "      gen_loss,disc_loss = train_step(x,y)\n",
        "\n",
        "      gen_loss_sum = gen_loss_sum + gen_loss\n",
        "      disc_loss_sum = disc_loss_sum + disc_loss\n",
        "\n",
        "      clear_output()\n",
        "\n",
        "      #discriminator evaluation: accuracy----------\n",
        "      rand_in = tf.random.normal([BATCH_SIZE, noise_dim])\n",
        "      x = tf.cast(x, tf.float32)\n",
        "\n",
        "      generated_noise = generator(rand_in, training=False)\n",
        "      generated_noise = tf.squeeze(generated_noise)\n",
        "\n",
        "      norm_evals.append(gen_norm_mean(generated_noise))\n",
        "      print(\"2nd order Norm: \" + str(gen_norm_mean(generated_noise)))\n",
        "\n",
        "      disc_wo_noise_accuracy.append(disc_evaluate(x,y))\n",
        "      disc_w_noise_accuracy.append(disc_evaluate(x+generated_noise,y))\n",
        "      print(\"Discriminator w/o Noise Accuracy: \"+str(disc_evaluate(x,y)))\n",
        "      print(\"Discriminator w/  Noise Accuracy: \"+str(disc_evaluate(x+generated_noise,y)))\n",
        "      #--------------------------------------------\n",
        "\n",
        "      gen_loss_evals.append(gen_loss.numpy())\n",
        "      disc_loss_evals.append(disc_loss.numpy())\n",
        "      print(\"Generator Loss: \"+ str(gen_loss.numpy()))\n",
        "      print(\"Discriminator Loss: \"+ str(disc_loss.numpy()))\n",
        "\n",
        "      #generate_and_save_images(generator,seed)\n",
        "      plot_metrics(norm_evals,disc_w_noise_accuracy,disc_wo_noise_accuracy,gen_loss_evals,disc_loss_evals)\n",
        "      \n",
        "\n",
        "    print(\"Generator Epoch Loss: \"+ str(gen_loss_sum))\n",
        "    print(\"Discriminator Epoch Loss: \"+ str(disc_loss_sum))\n",
        "    print(\"-----------------------------------\")\n",
        "\n",
        "    # Produce images for the GIF as you go\n",
        "    #display.clear_output(wait=True)\n",
        "    #generate_and_save_images(generator,epoch + 1,seed)\n",
        "\n",
        "    # Save the model every 15 epochs\n",
        "    #if (epoch + 1) % 15 == 0:\n",
        "      #checkpoint.save(file_prefix = checkpoint_prefix)\n",
        "\n",
        "    print('Time for epoch {} is {} sec'.format(epoch + 1, time.time()-start))\n",
        "\n",
        "  # Generate after the final epoch\n",
        "  #display.clear_output(wait=True)\n",
        "  #generate_and_save_images(generator,seed)\n"
      ]
    },
    {
      "cell_type": "code",
      "execution_count": 23,
      "id": "dc4629ce-5438-46ff-9ba8-f498807a62d3",
      "metadata": {
        "id": "dc4629ce-5438-46ff-9ba8-f498807a62d3"
      },
      "outputs": [],
      "source": [
        "def generate_and_save_images(model, test_input):\n",
        "  # Notice `training` is set to False.\n",
        "  # This is so all layers run in inference mode (batchnorm).\n",
        "  predictions = model(test_input, training=False)\n",
        "\n",
        "  fig = plt.figure(figsize=(8, 8))\n",
        "\n",
        "  for i in range(predictions.shape[0]):\n",
        "      plt.subplot(4, 4, i+1)\n",
        "      plt.imshow(predictions[i, :, :, 0] * 127.5 + 127.5, cmap='gray')\n",
        "      plt.axis('off')\n",
        "\n",
        "  plt.show()"
      ]
    },
    {
      "cell_type": "code",
      "source": [
        "def plot_metrics(norm_evals,disc_w_noise_accuracy,disc_wo_noise_accuracy,gen_loss_evals,disc_loss_evals):\n",
        "\n",
        "  # Three subplots sharing both x/y axes\n",
        "  f, (ax1, ax2, ax3, ax4) = plt.subplots(4, sharex=True, sharey=False,figsize=(12,8))\n",
        "\n",
        "  ax1.plot(norm_evals,label=\"Norm\")\n",
        "\n",
        "  ax2.plot(disc_w_noise_accuracy,label=\"w Noise accuracy\")\n",
        "  ax2.plot(disc_wo_noise_accuracy,label=\"wo Noise accuracy\")\n",
        "\n",
        "  ax3.plot(gen_loss_evals,label=\"Gen Loss\")\n",
        "  ax4.plot(disc_loss_evals,label=\"Disc Loss\")\n",
        "\n",
        "  ax1.legend()\n",
        "  ax2.legend()\n",
        "  ax3.legend()\n",
        "  ax4.legend()\n",
        "  # Fine-tune figure; make subplots close to each other and hide x ticks for\n",
        "  # all but bottom plot.\n",
        "  f.subplots_adjust(hspace=0)\n",
        "  plt.setp([a.get_xticklabels() for a in f.axes[:-1]], visible=False)\n",
        "\n",
        "  \n",
        "\n",
        "  plt.show()"
      ],
      "metadata": {
        "id": "SYWrg16Z3LbK"
      },
      "id": "SYWrg16Z3LbK",
      "execution_count": 24,
      "outputs": []
    },
    {
      "cell_type": "markdown",
      "id": "cb2b8616-3f89-4d9a-8cf3-352b221f732f",
      "metadata": {
        "tags": [],
        "id": "cb2b8616-3f89-4d9a-8cf3-352b221f732f"
      },
      "source": [
        "# Train"
      ]
    },
    {
      "cell_type": "code",
      "execution_count": 25,
      "id": "d5d9b66b-aa37-4076-9d2f-83df4718fed5",
      "metadata": {
        "id": "d5d9b66b-aa37-4076-9d2f-83df4718fed5",
        "outputId": "767ab7a4-053d-4c32-9d52-ba78f670e663",
        "colab": {
          "base_uri": "https://localhost:8080/",
          "height": 973
        }
      },
      "outputs": [
        {
          "output_type": "stream",
          "name": "stdout",
          "text": [
            "2nd order Norm: 11.394588\n",
            "Discriminator w/o Noise Accuracy: 0.80078125\n",
            "Discriminator w/  Noise Accuracy: 0.86328125\n",
            "Generator Loss: 63.672592\n",
            "Discriminator Loss: 0.4658879\n"
          ]
        },
        {
          "output_type": "display_data",
          "data": {
            "text/plain": [
              "<Figure size 864x576 with 4 Axes>"
            ],
            "image/png": "[encoded data removed]"
          },
          "metadata": {
            "needs_background": "light"
          }
        },
        {
          "output_type": "error",
          "ename": "ValueError",
          "evalue": "ignored",
          "traceback": [
            "\u001b[0;31m---------------------------------------------------------------------------\u001b[0m",
            "\u001b[0;31mValueError\u001b[0m                                Traceback (most recent call last)",
            "\u001b[0;32m<ipython-input-25-178de3cf74ec>\u001b[0m in \u001b[0;36m<module>\u001b[0;34m()\u001b[0m\n\u001b[0;32m----> 1\u001b[0;31m \u001b[0mtrain\u001b[0m\u001b[0;34m(\u001b[0m\u001b[0mdataset\u001b[0m\u001b[0;34m,\u001b[0m \u001b[0mEPOCHS\u001b[0m\u001b[0;34m)\u001b[0m\u001b[0;34m\u001b[0m\u001b[0;34m\u001b[0m\u001b[0m\n\u001b[0m",
            "\u001b[0;32m<ipython-input-22-d1c3f5bc7fd3>\u001b[0m in \u001b[0;36mtrain\u001b[0;34m(dataset, epochs)\u001b[0m\n\u001b[1;32m     16\u001b[0m \u001b[0;34m\u001b[0m\u001b[0m\n\u001b[1;32m     17\u001b[0m     \u001b[0;32mfor\u001b[0m \u001b[0mx\u001b[0m\u001b[0;34m,\u001b[0m\u001b[0my\u001b[0m \u001b[0;32min\u001b[0m \u001b[0mdataset\u001b[0m\u001b[0;34m:\u001b[0m\u001b[0;34m\u001b[0m\u001b[0;34m\u001b[0m\u001b[0m\n\u001b[0;32m---> 18\u001b[0;31m       \u001b[0mgen_loss\u001b[0m\u001b[0;34m,\u001b[0m\u001b[0mdisc_loss\u001b[0m \u001b[0;34m=\u001b[0m \u001b[0mtrain_step\u001b[0m\u001b[0;34m(\u001b[0m\u001b[0mx\u001b[0m\u001b[0;34m,\u001b[0m\u001b[0my\u001b[0m\u001b[0;34m)\u001b[0m\u001b[0;34m\u001b[0m\u001b[0;34m\u001b[0m\u001b[0m\n\u001b[0m\u001b[1;32m     19\u001b[0m \u001b[0;34m\u001b[0m\u001b[0m\n\u001b[1;32m     20\u001b[0m       \u001b[0mgen_loss_sum\u001b[0m \u001b[0;34m=\u001b[0m \u001b[0mgen_loss_sum\u001b[0m \u001b[0;34m+\u001b[0m \u001b[0mgen_loss\u001b[0m\u001b[0;34m\u001b[0m\u001b[0;34m\u001b[0m\u001b[0m\n",
            "\u001b[0;32m/usr/local/lib/python3.7/dist-packages/tensorflow/python/util/traceback_utils.py\u001b[0m in \u001b[0;36merror_handler\u001b[0;34m(*args, **kwargs)\u001b[0m\n\u001b[1;32m    151\u001b[0m     \u001b[0;32mexcept\u001b[0m \u001b[0mException\u001b[0m \u001b[0;32mas\u001b[0m \u001b[0me\u001b[0m\u001b[0;34m:\u001b[0m\u001b[0;34m\u001b[0m\u001b[0;34m\u001b[0m\u001b[0m\n\u001b[1;32m    152\u001b[0m       \u001b[0mfiltered_tb\u001b[0m \u001b[0;34m=\u001b[0m \u001b[0m_process_traceback_frames\u001b[0m\u001b[0;34m(\u001b[0m\u001b[0me\u001b[0m\u001b[0;34m.\u001b[0m\u001b[0m__traceback__\u001b[0m\u001b[0;34m)\u001b[0m\u001b[0;34m\u001b[0m\u001b[0;34m\u001b[0m\u001b[0m\n\u001b[0;32m--> 153\u001b[0;31m       \u001b[0;32mraise\u001b[0m \u001b[0me\u001b[0m\u001b[0;34m.\u001b[0m\u001b[0mwith_traceback\u001b[0m\u001b[0;34m(\u001b[0m\u001b[0mfiltered_tb\u001b[0m\u001b[0;34m)\u001b[0m \u001b[0;32mfrom\u001b[0m \u001b[0;32mNone\u001b[0m\u001b[0;34m\u001b[0m\u001b[0;34m\u001b[0m\u001b[0m\n\u001b[0m\u001b[1;32m    154\u001b[0m     \u001b[0;32mfinally\u001b[0m\u001b[0;34m:\u001b[0m\u001b[0;34m\u001b[0m\u001b[0;34m\u001b[0m\u001b[0m\n\u001b[1;32m    155\u001b[0m       \u001b[0;32mdel\u001b[0m \u001b[0mfiltered_tb\u001b[0m\u001b[0;34m\u001b[0m\u001b[0;34m\u001b[0m\u001b[0m\n",
            "\u001b[0;32m/usr/local/lib/python3.7/dist-packages/tensorflow/python/framework/func_graph.py\u001b[0m in \u001b[0;36mautograph_handler\u001b[0;34m(*args, **kwargs)\u001b[0m\n\u001b[1;32m   1145\u001b[0m           \u001b[0;32mexcept\u001b[0m \u001b[0mException\u001b[0m \u001b[0;32mas\u001b[0m \u001b[0me\u001b[0m\u001b[0;34m:\u001b[0m  \u001b[0;31m# pylint:disable=broad-except\u001b[0m\u001b[0;34m\u001b[0m\u001b[0;34m\u001b[0m\u001b[0m\n\u001b[1;32m   1146\u001b[0m             \u001b[0;32mif\u001b[0m \u001b[0mhasattr\u001b[0m\u001b[0;34m(\u001b[0m\u001b[0me\u001b[0m\u001b[0;34m,\u001b[0m \u001b[0;34m\"ag_error_metadata\"\u001b[0m\u001b[0;34m)\u001b[0m\u001b[0;34m:\u001b[0m\u001b[0;34m\u001b[0m\u001b[0;34m\u001b[0m\u001b[0m\n\u001b[0;32m-> 1147\u001b[0;31m               \u001b[0;32mraise\u001b[0m \u001b[0me\u001b[0m\u001b[0;34m.\u001b[0m\u001b[0mag_error_metadata\u001b[0m\u001b[0;34m.\u001b[0m\u001b[0mto_exception\u001b[0m\u001b[0;34m(\u001b[0m\u001b[0me\u001b[0m\u001b[0;34m)\u001b[0m\u001b[0;34m\u001b[0m\u001b[0;34m\u001b[0m\u001b[0m\n\u001b[0m\u001b[1;32m   1148\u001b[0m             \u001b[0;32melse\u001b[0m\u001b[0;34m:\u001b[0m\u001b[0;34m\u001b[0m\u001b[0;34m\u001b[0m\u001b[0m\n\u001b[1;32m   1149\u001b[0m               \u001b[0;32mraise\u001b[0m\u001b[0;34m\u001b[0m\u001b[0;34m\u001b[0m\u001b[0m\n",
            "\u001b[0;31mValueError\u001b[0m: in user code:\n\n    File \"<ipython-input-21-73dfda7c428f>\", line 13, in train_step  *\n        disc_output = discriminator(generated_noise+train_X, training=True)\n\n    ValueError: Dimensions must be equal, but are 256 and 96 for '{{node add}} = AddV2[T=DT_FLOAT](Squeeze, Cast)' with input shapes: [256,28,28], [96,28,28].\n"
          ]
        }
      ],
      "source": [
        "train(dataset, EPOCHS)"
      ]
    },
    {
      "cell_type": "code",
      "execution_count": null,
      "id": "744fce29-db0a-428f-9529-2a93f0091b82",
      "metadata": {
        "id": "744fce29-db0a-428f-9529-2a93f0091b82"
      },
      "outputs": [],
      "source": [
        "checkpoint.restore(tf.train.latest_checkpoint(checkpoint_dir))"
      ]
    },
    {
      "cell_type": "code",
      "source": [
        "generated_image = generator(seed, training=False)\n",
        "\n",
        "plt.imshow(generated_image[10, :, :, 0], cmap='gray')"
      ],
      "metadata": {
        "colab": {
          "base_uri": "https://localhost:8080/",
          "height": 283
        },
        "id": "818GY4-OKTXr",
        "outputId": "0b09323b-6518-4f67-88ea-da051bb5685a"
      },
      "id": "818GY4-OKTXr",
      "execution_count": 39,
      "outputs": [
        {
          "output_type": "execute_result",
          "data": {
            "text/plain": [
              "<matplotlib.image.AxesImage at 0x7f50ff5f6890>"
            ]
          },
          "metadata": {},
          "execution_count": 39
        },
        {
          "output_type": "display_data",
          "data": {
            "text/plain": [
              "<Figure size 432x288 with 1 Axes>"
            ],
            "image/png": "[encoded data removed]"
          },
          "metadata": {
            "needs_background": "light"
          }
        }
      ]
    },
    {
      "cell_type": "code",
      "source": [
        ""
      ],
      "metadata": {
        "id": "-6JrxUXX3GhO"
      },
      "id": "-6JrxUXX3GhO",
      "execution_count": null,
      "outputs": []
    }
  ],
  "metadata": {
    "kernelspec": {
      "display_name": "Python 3 (ipykernel)",
      "language": "python",
      "name": "python3"
    },
    "language_info": {
      "codemirror_mode": {
        "name": "ipython",
        "version": 3
      },
      "file_extension": ".py",
      "mimetype": "text/x-python",
      "name": "python",
      "nbconvert_exporter": "python",
      "pygments_lexer": "ipython3",
      "version": "3.8.10"
    },
    "colab": {
      "name": "NoiseGAN.ipynb",
      "provenance": [],
      "collapsed_sections": []
    }
  },
  "nbformat": 4,
  "nbformat_minor": 5
}