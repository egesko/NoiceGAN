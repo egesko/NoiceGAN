{
  "cells": [
    {
      "cell_type": "code",
      "execution_count": 1,
      "id": "9b898c12-9136-4195-8da9-dfcec6fcc45c",
      "metadata": {
        "id": "9b898c12-9136-4195-8da9-dfcec6fcc45c",
        "outputId": "e3800f26-e9af-4b98-a6d7-c43053a04861",
        "colab": {
          "base_uri": "https://localhost:8080/"
        }
      },
      "outputs": [
        {
          "output_type": "stream",
          "name": "stdout",
          "text": [
            "Mounted at /content/gdrive\n"
          ]
        }
      ],
      "source": [
        "import glob\n",
        "import pandas as pd\n",
        "import imageio\n",
        "import matplotlib.pyplot as plt\n",
        "import numpy as np\n",
        "import os\n",
        "import PIL\n",
        "from tensorflow.keras import layers\n",
        "import time\n",
        "import tensorflow as tf\n",
        "from IPython import display\n",
        "from IPython.display import clear_output\n",
        "from google.colab import drive\n",
        "from keras.initializers import RandomNormal\n",
        "drive.mount('/content/gdrive')\n",
        "images_dir = '/content/gdrive/MyDrive/NoiceGAN/Test8'"
      ]
    },
    {
      "cell_type": "markdown",
      "id": "4dc7fcf6-bc9c-4bb2-a687-18f46a859dd0",
      "metadata": {
        "id": "4dc7fcf6-bc9c-4bb2-a687-18f46a859dd0"
      },
      "source": [
        "# Load and prepare dataset"
      ]
    },
    {
      "cell_type": "code",
      "execution_count": 2,
      "metadata": {
        "id": "D6-1q8AZHL6U"
      },
      "outputs": [],
      "source": [
        "BUFFER_SIZE = 60000\n",
        "BATCH_SIZE = 128"
      ],
      "id": "D6-1q8AZHL6U"
    },
    {
      "cell_type": "code",
      "execution_count": 3,
      "metadata": {
        "id": "DSlGzinEHL6W",
        "colab": {
          "base_uri": "https://localhost:8080/"
        },
        "outputId": "54feefc5-a206-444e-dba0-98eee445b9e1"
      },
      "outputs": [
        {
          "output_type": "stream",
          "name": "stdout",
          "text": [
            "Downloading data from https://storage.googleapis.com/tensorflow/tf-keras-datasets/mnist.npz\n",
            "11493376/11490434 [==============================] - 0s 0us/step\n",
            "11501568/11490434 [==============================] - 0s 0us/step\n"
          ]
        }
      ],
      "source": [
        "(train_images, train_labels), (test_images,test_labels) = tf.keras.datasets.mnist.load_data()"
      ],
      "id": "DSlGzinEHL6W"
    },
    {
      "cell_type": "code",
      "source": [
        "train_labels = tf.keras.utils.to_categorical(train_labels, 10)\n",
        "test_labels  = tf.keras.utils.to_categorical(test_labels,  10)"
      ],
      "metadata": {
        "id": "o8nizlmPHL6X"
      },
      "execution_count": 4,
      "outputs": [],
      "id": "o8nizlmPHL6X"
    },
    {
      "cell_type": "code",
      "source": [
        "amount_to_Cut = int(np.floor((np.ma.size(train_images,axis=0)/BATCH_SIZE))*BATCH_SIZE)\n",
        "\n",
        "train_images = train_images[:amount_to_Cut,:,:]\n",
        "train_labels = train_labels[:amount_to_Cut,:]\n"
      ],
      "metadata": {
        "id": "N4pGW8hGHL6Z"
      },
      "execution_count": 5,
      "outputs": [],
      "id": "N4pGW8hGHL6Z"
    },
    {
      "cell_type": "code",
      "source": [
        "train_images = (train_images) / 256  # Normalize the images to [0, 1]\n",
        "train_images = train_images.astype(np.float32)\n",
        "\n",
        "test_images = (test_images) / 256\n",
        "test_images = test_images.astype(np.float32)"
      ],
      "metadata": {
        "id": "nhTEmfdeHL6a"
      },
      "execution_count": 6,
      "outputs": [],
      "id": "nhTEmfdeHL6a"
    },
    {
      "cell_type": "code",
      "source": [
        "plt.plot()\n",
        "plt.imshow(test_images[10,:, :], cmap='gray')\n",
        "(tf.ones_like(train_labels[10])-train_labels[10])/9"
      ],
      "metadata": {
        "colab": {
          "base_uri": "https://localhost:8080/",
          "height": 335
        },
        "outputId": "1385c565-3f22-4985-ae27-5e80153ebb8d",
        "id": "JbZ_r2EfHL6b"
      },
      "execution_count": 7,
      "outputs": [
        {
          "output_type": "execute_result",
          "data": {
            "text/plain": [
              "<tf.Tensor: shape=(10,), dtype=float32, numpy=\n",
              "array([0.11111111, 0.11111111, 0.11111111, 0.        , 0.11111111,\n",
              "       0.11111111, 0.11111111, 0.11111111, 0.11111111, 0.11111111],\n",
              "      dtype=float32)>"
            ]
          },
          "metadata": {},
          "execution_count": 7
        },
        {
          "output_type": "display_data",
          "data": {
            "text/plain": [
              "<Figure size 432x288 with 1 Axes>"
            ],
            "image/png": "[encoded data removed]"
          },
          "metadata": {
            "needs_background": "light"
          }
        }
      ],
      "id": "JbZ_r2EfHL6b"
    },
    {
      "cell_type": "code",
      "execution_count": 8,
      "id": "a19856b3-e156-4b71-bca5-c7becc384919",
      "metadata": {
        "id": "a19856b3-e156-4b71-bca5-c7becc384919"
      },
      "outputs": [],
      "source": [
        "# Batch and shuffle the data\n",
        "dataset = tf.data.Dataset.from_tensor_slices((train_images,train_labels)).shuffle(BUFFER_SIZE).batch(BATCH_SIZE)\n",
        "#train_Output = tf.data.Dataset.from_tensor_slices(train_labels).batch(BATCH_SIZE)"
      ]
    },
    {
      "cell_type": "markdown",
      "id": "e7ccd168-0851-4095-8133-8f2ab00893aa",
      "metadata": {
        "id": "e7ccd168-0851-4095-8133-8f2ab00893aa"
      },
      "source": [
        "# Create Models"
      ]
    },
    {
      "cell_type": "code",
      "source": [
        "init = RandomNormal(mean=0.0, stddev=0.02)"
      ],
      "metadata": {
        "id": "4pa8a0AxnF8n"
      },
      "id": "4pa8a0AxnF8n",
      "execution_count": 9,
      "outputs": []
    },
    {
      "cell_type": "markdown",
      "id": "1767b2ba-1c4b-4468-9862-4f9e2b665b69",
      "metadata": {
        "id": "1767b2ba-1c4b-4468-9862-4f9e2b665b69"
      },
      "source": [
        "### Generator"
      ]
    },
    {
      "cell_type": "code",
      "execution_count": 10,
      "id": "fc6901fb-6955-4ce3-b2bc-e022a1444cc3",
      "metadata": {
        "id": "fc6901fb-6955-4ce3-b2bc-e022a1444cc3"
      },
      "outputs": [],
      "source": [
        "def make_generator_model():\n",
        "    model = tf.keras.Sequential()\n",
        "    model.add(layers.Dense(7*7*256, use_bias=False, input_shape=(20+10,)))\n",
        "    model.add(layers.BatchNormalization())\n",
        "    model.add(layers.LeakyReLU())\n",
        "\n",
        "    model.add(layers.Reshape((7, 7, 256)))\n",
        "    assert model.output_shape == (None, 7, 7, 256)  # Note: None is the batch size\n",
        "\n",
        "    model.add(layers.Conv2DTranspose(128, (5, 5), strides=(1, 1), padding='same', use_bias=False))\n",
        "    assert model.output_shape == (None, 7, 7, 128)\n",
        "    model.add(layers.BatchNormalization())\n",
        "    model.add(layers.LeakyReLU())\n",
        "\n",
        "    model.add(layers.Conv2DTranspose(64, (5, 5), strides=(2, 2), padding='same', use_bias=False))\n",
        "    assert model.output_shape == (None, 14, 14, 64)\n",
        "    model.add(layers.BatchNormalization())\n",
        "    model.add(layers.LeakyReLU())\n",
        "\n",
        "    model.add(layers.Conv2DTranspose(1, (5, 5), strides=(2, 2), padding='same', use_bias=False, activation='sigmoid'))\n",
        "    assert model.output_shape == (None, 28, 28, 1)\n",
        "\n",
        "    return model"
      ]
    },
    {
      "cell_type": "markdown",
      "id": "d9ccb4d2-c3bf-449c-81b8-67be386faba2",
      "metadata": {
        "id": "d9ccb4d2-c3bf-449c-81b8-67be386faba2"
      },
      "source": [
        "### Discriminator"
      ]
    },
    {
      "cell_type": "code",
      "execution_count": 11,
      "id": "aa937314-8706-4683-bc3b-2af54cbb07ff",
      "metadata": {
        "id": "aa937314-8706-4683-bc3b-2af54cbb07ff"
      },
      "outputs": [],
      "source": [
        "def make_discriminator_model():\n",
        "    model = tf.keras.Sequential()\n",
        "    model.add(layers.Conv2D(64, (5, 5), strides=(2, 2), padding='same',\n",
        "                                     input_shape=[28, 28, 1]))\n",
        "    model.add(layers.LeakyReLU())\n",
        "    model.add(layers.Dropout(0.3))\n",
        "\n",
        "    model.add(layers.Conv2D(128, (5, 5), strides=(2, 2), padding='same'))\n",
        "    model.add(layers.LeakyReLU())\n",
        "    model.add(layers.Dropout(0.3))\n",
        "\n",
        "    model.add(layers.Flatten())\n",
        "    model.add(layers.Dense(10))\n",
        "\n",
        "    return model"
      ]
    },
    {
      "cell_type": "markdown",
      "id": "61f99800-9e43-455b-9685-d1e606e9be1b",
      "metadata": {
        "id": "61f99800-9e43-455b-9685-d1e606e9be1b"
      },
      "source": [
        "# Define Loss and Optimizers"
      ]
    },
    {
      "cell_type": "code",
      "execution_count": 12,
      "id": "68a2fcc5-7dc7-47f5-9ba7-e3d01ec0320f",
      "metadata": {
        "id": "68a2fcc5-7dc7-47f5-9ba7-e3d01ec0320f"
      },
      "outputs": [],
      "source": [
        "# This method returns a helper function to compute cross entropy loss\n",
        "cross_entropy_categorical = tf.keras.losses.CategoricalCrossentropy(from_logits=True)\n",
        "cross_entropy_binary = tf.keras.losses.BinaryCrossentropy(from_logits=True)\n"
      ]
    },
    {
      "cell_type": "code",
      "execution_count": 13,
      "id": "c8a1a33a-4922-4caa-9e0f-6a97b572b231",
      "metadata": {
        "id": "c8a1a33a-4922-4caa-9e0f-6a97b572b231"
      },
      "outputs": [],
      "source": [
        "def discriminator_loss(y_pred,y_real):\n",
        "    return cross_entropy_categorical(y_real,y_pred)"
      ]
    },
    {
      "cell_type": "code",
      "execution_count": 14,
      "id": "d7491e96-92b4-4097-91af-0eac8c9babf2",
      "metadata": {
        "id": "d7491e96-92b4-4097-91af-0eac8c9babf2"
      },
      "outputs": [],
      "source": [
        "def generator_loss(y_pred,y_real,gen_out):\n",
        "\n",
        "\n",
        "    indices = tf.math.argmax(y_real,axis=1)\n",
        "\n",
        "    arr = []\n",
        "    for i in range(BATCH_SIZE):\n",
        "      arr.append(y_pred[i,indices[i]])\n",
        "\n",
        "    final_cross_entropy = cross_entropy_binary(tf.zeros_like(indices),arr)\n",
        "\n",
        "    # norm_calculated = tf.norm(gen_out,ord=2,axis=[1,2])\n",
        "    # lp_loss = tf.reduce_mean(norm_calculated)\n",
        "\n",
        "    # final_loss = final_cross_entropy+lambda_parameter*lp_loss\n",
        "    \n",
        "    #--------------------------All Neurons---------------------------------\n",
        "\n",
        "    # # CROSS-ENTROPY-CATEGORICAL\n",
        "    # # There must be a better way to do this, look into it more later!\n",
        "    # mean_tensor_single = tf.math.reduce_mean(y_pred,axis=1)\n",
        "    # mean_tensor_multi = tf.stack([mean_tensor_single,mean_tensor_single,mean_tensor_single,mean_tensor_single,mean_tensor_single,mean_tensor_single,mean_tensor_single,mean_tensor_single,mean_tensor_single,mean_tensor_single],axis=1)\n",
        "    # final_cross_entropy = cross_entropy_categorical(mean_tensor_multi,y_pred)\n",
        "\n",
        "    # #GENERATOR OUTPUT L2 LOSS\n",
        "    # flattened_x = tf.reshape(gen_out,(BATCH_SIZE,28*28))\n",
        "    # norm_calculated = tf.norm(flattened_x,ord=2,axis=1)\n",
        "    # lp_loss = tf.reduce_mean(norm_calculated)\n",
        "\n",
        "    # #SUM OF THE TWO WITH WEIGHT\n",
        "    # final_loss = final_cross_entropy+0.3*lp_loss\n",
        "\n",
        "    #--------------------------Single Neuron---------------------------------\n",
        "\n",
        "    # indices = tf.math.argmax(y_real,axis=1)\n",
        "\n",
        "    # arr = []\n",
        "    # for i in range(BATCH_SIZE):\n",
        "    #   arr.append(y_pred[i,indices[i]])\n",
        "\n",
        "    # mean_tensor_single = tf.math.reduce_mean(y_pred,axis=1)\n",
        "\n",
        "    # final_cross_entropy = cross_entropy_categorical(mean_tensor_single,arr)\n",
        "\n",
        "    # #GENERATOR OUTPUT L2 LOSS\n",
        "    # flattened_x = tf.reshape(gen_out,(BATCH_SIZE,28*28))\n",
        "    # norm_calculated = tf.norm(flattened_x,ord=2,axis=1)\n",
        "    # lp_loss = tf.reduce_mean(norm_calculated)\n",
        "\n",
        "    # #SUM OF THE TWO WITH WEIGHT\n",
        "    # final_loss = final_cross_entropy+0*lp_loss\n",
        "\n",
        "\n",
        "\n",
        "    return final_cross_entropy\n",
        "\n",
        "\n",
        "\n",
        "\n"
      ]
    },
    {
      "cell_type": "code",
      "source": [
        "def disc_evaluate(x,y):\n",
        "\n",
        "  predictions = np.argmax(discriminator(x).numpy(),axis=1)\n",
        "  \n",
        "  return 1-((np.count_nonzero(np.argmax(y,axis=1)-predictions))/BATCH_SIZE)"
      ],
      "metadata": {
        "id": "IHYgi0q8fZw-"
      },
      "id": "IHYgi0q8fZw-",
      "execution_count": 15,
      "outputs": []
    },
    {
      "cell_type": "code",
      "source": [
        "def gen_norm_mean(x):\n",
        "  #flattened_x = np.reshape(x,(BATCH_SIZE,28*28))\n",
        "  norm_calculated = tf.norm(x,ord=2,axis=[1,2])\n",
        "  norm_mean = tf.math.reduce_mean(norm_calculated)\n",
        "  return norm_mean.numpy()"
      ],
      "metadata": {
        "id": "x5NI5yGUn_9B"
      },
      "id": "x5NI5yGUn_9B",
      "execution_count": 16,
      "outputs": []
    },
    {
      "cell_type": "code",
      "execution_count": 17,
      "id": "5435e5a5-a891-43b2-8041-d4c14a9ef8ff",
      "metadata": {
        "id": "5435e5a5-a891-43b2-8041-d4c14a9ef8ff"
      },
      "outputs": [],
      "source": [
        "generator_optimizer = tf.keras.optimizers.Adam(1e-4)\n",
        "discriminator_optimizer = tf.keras.optimizers.Adam(1e-4)\n"
      ]
    },
    {
      "cell_type": "markdown",
      "id": "2eaaed33-0ff9-49db-a25b-287d749fc7b2",
      "metadata": {
        "id": "2eaaed33-0ff9-49db-a25b-287d749fc7b2"
      },
      "source": [
        "# Define training loop"
      ]
    },
    {
      "cell_type": "code",
      "execution_count": 18,
      "id": "8ccd0a2a-ac70-4cd7-a166-43352d3bf9c5",
      "metadata": {
        "id": "8ccd0a2a-ac70-4cd7-a166-43352d3bf9c5"
      },
      "outputs": [],
      "source": [
        "EPOCHS = 500\n",
        "noise_dim = 20\n",
        "num_examples_to_generate = 9\n",
        "\n",
        "# You will reuse this seed overtime (so it's easier)\n",
        "# to visualize progress in the animated GIF)\n",
        "\n",
        "rand_y = [0,1,2,3,4,5,6,7,8]\n",
        "rand_y = tf.keras.utils.to_categorical(rand_y, 10)\n",
        "#print(rand_y)\n",
        "#rand_y = np.append(np.ones((num_examples_to_generate,1)),np.zeros((num_examples_to_generate, 9)),axis=1)\n",
        "\n",
        "seed = np.append(rand_y,tf.random.normal([num_examples_to_generate, noise_dim]),axis=1)\n"
      ]
    },
    {
      "cell_type": "code",
      "execution_count": 19,
      "id": "166f6307-525a-46f3-9cf9-448900600dc6",
      "metadata": {
        "id": "166f6307-525a-46f3-9cf9-448900600dc6"
      },
      "outputs": [],
      "source": [
        "# Notice the use of `tf.function`\n",
        "# This annotation causes the function to be \"compiled\".\n",
        "@tf.function\n",
        "def train_step_only_gen(train_X,train_Y,lambda_norm):\n",
        "    train_X = tf.cast(train_X, tf.float32)\n",
        "    rand_y_in = tf.experimental.numpy.append(train_Y, tf.random.normal([BATCH_SIZE, noise_dim]), axis=1)\n",
        "\n",
        "\n",
        "    with tf.GradientTape() as gen_tape, tf.GradientTape() as disc_tape:\n",
        "      \n",
        "      generated_noise = generator(rand_y_in, training=True)\n",
        "      generated_noise = tf.squeeze(generated_noise)\n",
        "      \n",
        "      disc_output = discriminator(generated_noise+train_X, training=True)\n",
        "\n",
        "      gen_loss = generator_loss(disc_output,train_Y,generated_noise)\n",
        "      disc_loss = discriminator_loss(disc_output, train_Y)\n",
        "\n",
        "    gradients_of_generator = gen_tape.gradient(gen_loss, generator.trainable_variables)\n",
        "    #gradients_of_discriminator = disc_tape.gradient(disc_loss, discriminator.trainable_variables)\n",
        "\n",
        "    \n",
        "    generator_optimizer.apply_gradients(zip(gradients_of_generator, generator.trainable_variables))\n",
        "    #discriminator_optimizer.apply_gradients(zip(gradients_of_discriminator, discriminator.trainable_variables))\n",
        "\n",
        "    return gen_loss,disc_loss\n"
      ]
    },
    {
      "cell_type": "code",
      "source": [
        "# Notice the use of `tf.function`\n",
        "# This annotation causes the function to be \"compiled\".\n",
        "#@tf.function\n",
        "def train_step_together(train_X,train_Y,lambda_norm):\n",
        "    train_X = tf.cast(train_X, tf.float32)\n",
        "    rand_y_in = tf.experimental.numpy.append(train_Y, tf.random.normal([BATCH_SIZE, noise_dim]), axis=1)\n",
        "\n",
        "    with tf.GradientTape() as gen_tape, tf.GradientTape() as disc_tape:\n",
        "      \n",
        "      generated_noise = generator(rand_y_in, training=True)\n",
        "      generated_noise = generated_noise * lambda_norm\n",
        "      generated_noise = tf.squeeze(generated_noise)\n",
        "      \n",
        "      disc_output = discriminator(generated_noise+train_X, training=True)\n",
        "\n",
        "      gen_loss = generator_loss(disc_output,train_Y,generated_noise)\n",
        "      disc_loss = discriminator_loss(disc_output, train_Y)\n",
        "\n",
        "    \n",
        "\n",
        "    gradients_of_generator = gen_tape.gradient(gen_loss, generator.trainable_variables)\n",
        "    gradients_of_discriminator = disc_tape.gradient(disc_loss, discriminator.trainable_variables)\n",
        "\n",
        "    generator_optimizer.apply_gradients(zip(gradients_of_generator, generator.trainable_variables))\n",
        "    discriminator_optimizer.apply_gradients(zip(gradients_of_discriminator, discriminator.trainable_variables))\n",
        "\n",
        "    return gen_loss,disc_loss"
      ],
      "metadata": {
        "id": "GDtmbVOuUjSy"
      },
      "id": "GDtmbVOuUjSy",
      "execution_count": 20,
      "outputs": []
    },
    {
      "cell_type": "code",
      "source": [
        "# Notice the use of `tf.function`\n",
        "# This annotation causes the function to be \"compiled\".\n",
        "@tf.function\n",
        "def train_step_only_disc(train_X,train_Y,lambda_norm):\n",
        "    train_X = tf.cast(train_X, tf.float32)\n",
        "    rand_y_in = tf.experimental.numpy.append(train_Y, tf.random.normal([BATCH_SIZE, noise_dim]), axis=1)\n",
        "\n",
        "    with tf.GradientTape() as gen_tape, tf.GradientTape() as disc_tape:\n",
        "      \n",
        "      generated_noise = generator(rand_y_in, training=True)\n",
        "      generated_noise = tf.squeeze(generated_noise)\n",
        "      \n",
        "      disc_output = discriminator(generated_noise+train_X, training=True)\n",
        "\n",
        "      gen_loss = generator_loss(disc_output,train_Y,generated_noise)\n",
        "      disc_loss = discriminator_loss(disc_output, train_Y)\n",
        "\n",
        "    #gradients_of_generator = gen_tape.gradient(gen_loss, generator.trainable_variables)\n",
        "    gradients_of_discriminator = disc_tape.gradient(disc_loss, discriminator.trainable_variables)\n",
        "\n",
        "    #generator_optimizer.apply_gradients(zip(gradients_of_generator, generator.trainable_variables))\n",
        "    discriminator_optimizer.apply_gradients(zip(gradients_of_discriminator, discriminator.trainable_variables))\n",
        "\n",
        "    return gen_loss,disc_loss"
      ],
      "metadata": {
        "id": "yrb9KXciXvmi"
      },
      "id": "yrb9KXciXvmi",
      "execution_count": 21,
      "outputs": []
    },
    {
      "cell_type": "code",
      "execution_count": 22,
      "id": "db65c45a-8d89-4116-8e8b-7cc613f98ce9",
      "metadata": {
        "id": "db65c45a-8d89-4116-8e8b-7cc613f98ce9"
      },
      "outputs": [],
      "source": [
        "def train(dataset, epochs,train_time,current_lambda):\n",
        "  for epoch in range(epochs):\n",
        "    print(\"epoch: \"+ str(epoch))\n",
        "    gen_loss_sum = 0\n",
        "    disc_loss_sum = 0\n",
        "\n",
        "    start = time.time()\n",
        "\n",
        "    \n",
        "    for x,y in dataset:      \n",
        "      train_time = train_time+1\n",
        "\n",
        "\n",
        "      #Evaluation Metrics:------------------------\n",
        "      rand_in = tf.random.normal([BATCH_SIZE, noise_dim])\n",
        "      x = tf.cast(x, tf.float32)\n",
        "\n",
        "      generated_noise = generator(np.append(y,rand_in,axis=1), training=False)\n",
        "      generated_noise = tf.squeeze(generated_noise)\n",
        "\n",
        "      norm_evals.append(gen_norm_mean(generated_noise))\n",
        "\n",
        "      disc_wo_noise_accuracy.append(disc_evaluate(x,y))\n",
        "      disc_w_noise_accuracy.append(disc_evaluate(x+generated_noise,y))\n",
        "      #--------------------------------------------\n",
        "        \n",
        "\n",
        "      gen_loss,disc_loss = train_step_together(x,y,tf.constant(current_lambda))\n",
        "\n",
        "\n",
        "      gen_loss_sum = gen_loss_sum + gen_loss\n",
        "      disc_loss_sum = disc_loss_sum + disc_loss\n",
        "      gen_loss_evals.append(gen_loss.numpy())\n",
        "      disc_loss_evals.append(disc_loss.numpy())\n",
        "      lambda_evals.append(current_lambda)\n",
        "\n",
        "      if (train_time%3)==0:\n",
        "\n",
        "        clear_output()\n",
        "\n",
        "        print(\"2nd order Norm: \" + str(gen_norm_mean(generated_noise)))\n",
        "        print(\"Discriminator w/o Noise Accuracy: \"+str(disc_evaluate(x,y)))\n",
        "        print(\"Discriminator w/  Noise Accuracy: \"+str(disc_evaluate(x+generated_noise,y)))\n",
        "        print(\"Generator Loss: \"+ str(gen_loss.numpy()))\n",
        "        print(\"Discriminator Loss: \"+ str(disc_loss.numpy()))\n",
        "\n",
        "        plot_metrics(norm_evals,disc_w_noise_accuracy,disc_wo_noise_accuracy,gen_loss_evals,disc_loss_evals,seed,generator,train_time,lambda_evals,current_lambda)\n",
        "      \n",
        "      if (train_time >= 1000 ):\n",
        "        return\n",
        "\n",
        "\n",
        "\n",
        "    # Save the model every 5 epochs\n",
        "    if (epoch + 1) % 15 == 0:\n",
        "      checkpoint.save(file_prefix = checkpoint_prefix)\n",
        "\n",
        "    print('Time for epoch {} is {} sec'.format(epoch + 1, time.time()-start))\n",
        "\n",
        "  # Generate after the final epoch\n",
        "  #display.clear_output(wait=True)\n",
        "  #generate_and_save_images(generator,seed)\n"
      ]
    },
    {
      "cell_type": "code",
      "source": [
        "def plot_metrics(norm_evals,disc_w_noise_accuracy,disc_wo_noise_accuracy,gen_loss_evals,disc_loss_evals,test_input,model,training_step,lambda_evals,lmbd):\n",
        "\n",
        "  # Three subplots sharing both x/y axes\n",
        "  f, (ax1, ax2, ax3, ax4) = plt.subplots(4, sharex=True, sharey=False,figsize=(12,8))\n",
        "\n",
        "  ax1.plot(norm_evals,label=\"Norm\")\n",
        "\n",
        "  ax2.plot(disc_w_noise_accuracy,label=\"w Noise accuracy\")\n",
        "  ax2.plot(disc_wo_noise_accuracy,label=\"wo Noise accuracy\")\n",
        "\n",
        "  ax3.plot(gen_loss_evals,label=\"Gen Loss\")\n",
        "  ax4.plot(disc_loss_evals,label=\"Disc Loss\")\n",
        "\n",
        "\n",
        "  ax1.legend()\n",
        "  ax2.legend()\n",
        "  ax3.legend()\n",
        "  ax4.legend()\n",
        "  \n",
        "  # Fine-tune figure; make subplots close to each other and hide x ticks for\n",
        "  # all but bottom plot.\n",
        "  f.subplots_adjust(hspace=0)\n",
        "  plt.setp([a.get_xticklabels() for a in f.axes[:-1]], visible=False)\n",
        "\n",
        "  plt.savefig(images_dir+'/'+str(lmbd)+'/Graph/'+str(training_step)+'.png')\n",
        "  #---------------------------------------------------------------------------------------------\n",
        "\n",
        "  predictions = model(test_input, training=False)\n",
        "\n",
        "  fig = plt.figure(figsize=(7, 10))\n",
        "\n",
        "  for i in range(predictions.shape[0]):\n",
        "      plt.subplot(3, 3, i+1)\n",
        "      plt.imshow(predictions[i, :, :, 0] * 127.5 + 127.5, cmap='gray')\n",
        "      plt.axis('off')\n",
        "\n",
        "    \n",
        "  plt.savefig(images_dir+'/'+str(lmbd)+'/Gen_output/'+str(training_step)+'.png')\n",
        "\n",
        "  \n",
        "\n",
        "  plt.show()"
      ],
      "metadata": {
        "id": "SYWrg16Z3LbK"
      },
      "id": "SYWrg16Z3LbK",
      "execution_count": 23,
      "outputs": []
    },
    {
      "cell_type": "markdown",
      "source": [
        "# Experiment (Test9)"
      ],
      "metadata": {
        "id": "ylvjJS3v-1eR"
      },
      "id": "ylvjJS3v-1eR"
    },
    {
      "cell_type": "code",
      "source": [
        "all_loss = []\n",
        "for lmbd in np.float32(np.linspace(0.9,0.1,9)):\n",
        "\n",
        "  print('----------'+str(lmbd)+'----------')\n",
        "\n",
        "  #Restart graph session\n",
        "  tf.keras.backend.clear_session()\n",
        "\n",
        "  #Generate New Models\n",
        "  generator = make_generator_model()\n",
        "  discriminator = make_discriminator_model()\n",
        "\n",
        "  #Set up optimizer and checkpoints(Never used, putting it here just in case)\n",
        "  checkpoint_dir = './training_checkpoints'\n",
        "  checkpoint_prefix = os.path.join(checkpoint_dir, \"ckpt\")\n",
        "  checkpoint = tf.train.Checkpoint(generator_optimizer=generator_optimizer,\n",
        "                                  discriminator_optimizer=discriminator_optimizer,\n",
        "                                  generator=generator,\n",
        "                                  discriminator=discriminator)\n",
        "  \n",
        "  #Reset train_time to zero\n",
        "  train_time=0\n",
        "\n",
        "  #Initialize metric save arrays\n",
        "  gen_loss_evals = []\n",
        "  disc_loss_evals = []\n",
        "  loss_for_attacker = []\n",
        "  \n",
        "\n",
        "  #Start training with new lmbd number\n",
        "  min_gen_loss = 100\n",
        "  for x,y in dataset:      \n",
        "      train_time = train_time+1\n",
        "      \n",
        "      gen_loss,disc_loss = train_step_together(x,y,tf.constant(lmbd))\n",
        "\n",
        "      gen_loss_evals.append(gen_loss.numpy())\n",
        "      disc_loss_evals.append(disc_loss.numpy())\n",
        "\n",
        "      if(train_time > 100 and gen_loss_evals[-2]<min_gen_loss and gen_loss_evals[-2]<gen_loss_evals[-1]):\n",
        "        min_gen_loss = gen_loss_evals[-1]\n",
        "        print(\"-----Fitting for attacker: \"+str(train_time)+\"-----Loss:\"+str(min_gen_loss))\n",
        "        history = test_model_w_attacker()\n",
        "        loss_for_attacker.append(history.history['val_loss'][-1])\n",
        "\n",
        "  all_loss.append(np.mean(np.array(loss_for_attacker)))\n",
        "  #Save arrays as csv file\n",
        "  #df = pd.DataFrame(list(zip(norm_evals, disc_w_noise_accuracy,disc_wo_noise_accuracy,gen_loss_evals,disc_loss_evals)),\n",
        "                #columns =['Generator Norm', 'Disc_acc (w/ noise)','Disc_acc (w/o noise)','Generator Loss','Discriminator Loss'])\n",
        "\n",
        "  #df.to_csv(images_dir+'/'+str(lmbd)+'/out.csv',index=False)"
      ],
      "metadata": {
        "id": "mtOI9DOy-IU6",
        "outputId": "54047ddc-0658-4604-ac4a-3a7ff0f47c2a",
        "colab": {
          "base_uri": "https://localhost:8080/"
        }
      },
      "id": "mtOI9DOy-IU6",
      "execution_count": 39,
      "outputs": [
        {
          "output_type": "stream",
          "name": "stdout",
          "text": [
            "----------0.9----------\n",
            "-----Fitting for attacker: 101-----Loss:0.70019394\n",
            "Epoch 1/2\n",
            "219/219 [==============================] - 2s 6ms/step - loss: 0.2967 - accuracy: 0.9139 - val_loss: 0.0125 - val_accuracy: 0.9963\n",
            "Epoch 2/2\n",
            "219/219 [==============================] - 1s 6ms/step - loss: 0.0098 - accuracy: 0.9981 - val_loss: 0.0138 - val_accuracy: 0.9963\n",
            "-----Fitting for attacker: 104-----Loss:0.74099696\n",
            "Epoch 1/2\n",
            "219/219 [==============================] - 2s 7ms/step - loss: 0.2815 - accuracy: 0.9149 - val_loss: 0.0096 - val_accuracy: 0.9980\n",
            "Epoch 2/2\n",
            "219/219 [==============================] - 1s 6ms/step - loss: 0.0089 - accuracy: 0.9973 - val_loss: 0.0055 - val_accuracy: 0.9983\n",
            "-----Fitting for attacker: 106-----Loss:0.75035834\n",
            "Epoch 1/2\n",
            "219/219 [==============================] - 2s 6ms/step - loss: 0.2772 - accuracy: 0.9174 - val_loss: 0.0084 - val_accuracy: 0.9973\n",
            "Epoch 2/2\n",
            "219/219 [==============================] - 1s 6ms/step - loss: 0.0114 - accuracy: 0.9974 - val_loss: 0.0098 - val_accuracy: 0.9967\n",
            "-----Fitting for attacker: 109-----Loss:0.7267197\n",
            "Epoch 1/2\n",
            "219/219 [==============================] - 2s 6ms/step - loss: 0.2678 - accuracy: 0.9177 - val_loss: 0.0124 - val_accuracy: 0.9957\n",
            "Epoch 2/2\n",
            "219/219 [==============================] - 1s 6ms/step - loss: 0.0101 - accuracy: 0.9976 - val_loss: 0.0057 - val_accuracy: 0.9977\n",
            "-----Fitting for attacker: 126-----Loss:0.75718075\n",
            "Epoch 1/2\n",
            "219/219 [==============================] - 2s 6ms/step - loss: 0.3747 - accuracy: 0.8893 - val_loss: 0.0262 - val_accuracy: 0.9907\n",
            "Epoch 2/2\n",
            "219/219 [==============================] - 1s 6ms/step - loss: 0.0142 - accuracy: 0.9964 - val_loss: 0.0057 - val_accuracy: 0.9987\n",
            "-----Fitting for attacker: 128-----Loss:0.73985296\n",
            "Epoch 1/2\n",
            "219/219 [==============================] - 2s 6ms/step - loss: 0.3441 - accuracy: 0.8969 - val_loss: 0.0139 - val_accuracy: 0.9980\n",
            "Epoch 2/2\n",
            "219/219 [==============================] - 1s 5ms/step - loss: 0.0121 - accuracy: 0.9969 - val_loss: 0.0048 - val_accuracy: 0.9997\n",
            "-----Fitting for attacker: 131-----Loss:0.66086775\n",
            "Epoch 1/2\n",
            "219/219 [==============================] - 2s 6ms/step - loss: 0.3374 - accuracy: 0.8963 - val_loss: 0.0119 - val_accuracy: 0.9980\n",
            "Epoch 2/2\n",
            "219/219 [==============================] - 1s 6ms/step - loss: 0.0063 - accuracy: 0.9991 - val_loss: 0.0055 - val_accuracy: 0.9983\n",
            "-----Fitting for attacker: 134-----Loss:0.62499976\n",
            "Epoch 1/2\n",
            "219/219 [==============================] - 2s 6ms/step - loss: 0.3467 - accuracy: 0.8919 - val_loss: 0.0096 - val_accuracy: 0.9990\n",
            "Epoch 2/2\n",
            "219/219 [==============================] - 1s 5ms/step - loss: 0.0080 - accuracy: 0.9983 - val_loss: 0.0036 - val_accuracy: 0.9993\n",
            "-----Fitting for attacker: 136-----Loss:0.63563347\n",
            "Epoch 1/2\n",
            "219/219 [==============================] - 2s 6ms/step - loss: 0.2793 - accuracy: 0.9207 - val_loss: 0.0060 - val_accuracy: 0.9990\n",
            "Epoch 2/2\n",
            "219/219 [==============================] - 1s 6ms/step - loss: 0.0046 - accuracy: 0.9993 - val_loss: 0.0026 - val_accuracy: 0.9997\n",
            "-----Fitting for attacker: 139-----Loss:0.6426633\n",
            "Epoch 1/2\n",
            "219/219 [==============================] - 2s 6ms/step - loss: 0.2689 - accuracy: 0.9177 - val_loss: 0.0132 - val_accuracy: 0.9960\n",
            "Epoch 2/2\n",
            "219/219 [==============================] - 1s 6ms/step - loss: 0.0054 - accuracy: 0.9986 - val_loss: 0.0024 - val_accuracy: 1.0000\n",
            "-----Fitting for attacker: 210-----Loss:0.646801\n",
            "Epoch 1/2\n",
            "219/219 [==============================] - 2s 6ms/step - loss: 0.6281 - accuracy: 0.8063 - val_loss: 0.1868 - val_accuracy: 0.9447\n",
            "Epoch 2/2\n",
            "219/219 [==============================] - 1s 5ms/step - loss: 0.1461 - accuracy: 0.9539 - val_loss: 0.0819 - val_accuracy: 0.9737\n",
            "-----Fitting for attacker: 212-----Loss:0.6414834\n",
            "Epoch 1/2\n",
            "219/219 [==============================] - 2s 6ms/step - loss: 0.6251 - accuracy: 0.8070 - val_loss: 0.1979 - val_accuracy: 0.9383\n",
            "Epoch 2/2\n",
            "219/219 [==============================] - 1s 5ms/step - loss: 0.1310 - accuracy: 0.9583 - val_loss: 0.0665 - val_accuracy: 0.9777\n",
            "-----Fitting for attacker: 215-----Loss:0.67642164\n",
            "Epoch 1/2\n",
            "219/219 [==============================] - 2s 6ms/step - loss: 0.6313 - accuracy: 0.8081 - val_loss: 0.1405 - val_accuracy: 0.9640\n",
            "Epoch 2/2\n",
            "219/219 [==============================] - 1s 6ms/step - loss: 0.0909 - accuracy: 0.9723 - val_loss: 0.0365 - val_accuracy: 0.9910\n",
            "-----Fitting for attacker: 217-----Loss:0.65289676\n",
            "Epoch 1/2\n",
            "219/219 [==============================] - 2s 6ms/step - loss: 0.6288 - accuracy: 0.8071 - val_loss: 0.1471 - val_accuracy: 0.9593\n",
            "Epoch 2/2\n",
            "219/219 [==============================] - 1s 5ms/step - loss: 0.0801 - accuracy: 0.9756 - val_loss: 0.0215 - val_accuracy: 0.9957\n",
            "-----Fitting for attacker: 219-----Loss:0.71220833\n",
            "Epoch 1/2\n",
            "219/219 [==============================] - 2s 6ms/step - loss: 0.6141 - accuracy: 0.8109 - val_loss: 0.1027 - val_accuracy: 0.9760\n",
            "Epoch 2/2\n",
            "219/219 [==============================] - 1s 6ms/step - loss: 0.0477 - accuracy: 0.9884 - val_loss: 0.0268 - val_accuracy: 0.9927\n",
            "-----Fitting for attacker: 225-----Loss:0.74605894\n",
            "Epoch 1/2\n",
            "219/219 [==============================] - 2s 6ms/step - loss: 0.5891 - accuracy: 0.8174 - val_loss: 0.1061 - val_accuracy: 0.9660\n",
            "Epoch 2/2\n",
            "219/219 [==============================] - 1s 6ms/step - loss: 0.0443 - accuracy: 0.9891 - val_loss: 0.0156 - val_accuracy: 0.9963\n",
            "-----Fitting for attacker: 229-----Loss:0.7562787\n",
            "Epoch 1/2\n",
            "219/219 [==============================] - 2s 6ms/step - loss: 0.5417 - accuracy: 0.8406 - val_loss: 0.0591 - val_accuracy: 0.9870\n",
            "Epoch 2/2\n",
            "219/219 [==============================] - 1s 6ms/step - loss: 0.0398 - accuracy: 0.9883 - val_loss: 0.0111 - val_accuracy: 0.9970\n",
            "-----Fitting for attacker: 232-----Loss:0.71756536\n",
            "Epoch 1/2\n",
            "219/219 [==============================] - 2s 6ms/step - loss: 0.5041 - accuracy: 0.8441 - val_loss: 0.0647 - val_accuracy: 0.9840\n",
            "Epoch 2/2\n",
            "219/219 [==============================] - 1s 6ms/step - loss: 0.0478 - accuracy: 0.9864 - val_loss: 0.0205 - val_accuracy: 0.9953\n",
            "-----Fitting for attacker: 234-----Loss:0.7443178\n",
            "Epoch 1/2\n",
            "219/219 [==============================] - 2s 6ms/step - loss: 0.4898 - accuracy: 0.8499 - val_loss: 0.0745 - val_accuracy: 0.9770\n",
            "Epoch 2/2\n",
            "219/219 [==============================] - 1s 6ms/step - loss: 0.0534 - accuracy: 0.9843 - val_loss: 0.0215 - val_accuracy: 0.9947\n",
            "-----Fitting for attacker: 238-----Loss:0.69352734\n",
            "Epoch 1/2\n",
            "219/219 [==============================] - 2s 6ms/step - loss: 0.4765 - accuracy: 0.8451 - val_loss: 0.0632 - val_accuracy: 0.9840\n",
            "Epoch 2/2\n",
            "219/219 [==============================] - 2s 7ms/step - loss: 0.0593 - accuracy: 0.9836 - val_loss: 0.0272 - val_accuracy: 0.9930\n",
            "-----Fitting for attacker: 240-----Loss:0.7140703\n",
            "Epoch 1/2\n",
            "219/219 [==============================] - 2s 6ms/step - loss: 0.4459 - accuracy: 0.8584 - val_loss: 0.0600 - val_accuracy: 0.9817\n",
            "Epoch 2/2\n",
            "219/219 [==============================] - 1s 5ms/step - loss: 0.0588 - accuracy: 0.9821 - val_loss: 0.0206 - val_accuracy: 0.9943\n",
            "-----Fitting for attacker: 242-----Loss:0.6764157\n",
            "Epoch 1/2\n",
            "219/219 [==============================] - 2s 6ms/step - loss: 0.4437 - accuracy: 0.8636 - val_loss: 0.0708 - val_accuracy: 0.9767\n",
            "Epoch 2/2\n",
            "219/219 [==============================] - 1s 6ms/step - loss: 0.0543 - accuracy: 0.9827 - val_loss: 0.0179 - val_accuracy: 0.9953\n",
            "-----Fitting for attacker: 288-----Loss:0.48819497\n",
            "Epoch 1/2\n",
            "219/219 [==============================] - 2s 6ms/step - loss: 0.4612 - accuracy: 0.8571 - val_loss: 0.0650 - val_accuracy: 0.9817\n",
            "Epoch 2/2\n",
            "219/219 [==============================] - 1s 6ms/step - loss: 0.0392 - accuracy: 0.9891 - val_loss: 0.0198 - val_accuracy: 0.9940\n",
            "-----Fitting for attacker: 293-----Loss:0.46452197\n",
            "Epoch 1/2\n",
            "219/219 [==============================] - 2s 6ms/step - loss: 0.4562 - accuracy: 0.8556 - val_loss: 0.0611 - val_accuracy: 0.9853\n",
            "Epoch 2/2\n",
            "219/219 [==============================] - 1s 6ms/step - loss: 0.0354 - accuracy: 0.9906 - val_loss: 0.0268 - val_accuracy: 0.9927\n",
            "-----Fitting for attacker: 295-----Loss:0.48027292\n",
            "Epoch 1/2\n",
            "219/219 [==============================] - 2s 6ms/step - loss: 0.4246 - accuracy: 0.8624 - val_loss: 0.0552 - val_accuracy: 0.9840\n",
            "Epoch 2/2\n",
            "219/219 [==============================] - 1s 6ms/step - loss: 0.0416 - accuracy: 0.9890 - val_loss: 0.0299 - val_accuracy: 0.9887\n",
            "-----Fitting for attacker: 403-----Loss:0.5209051\n",
            "Epoch 1/2\n",
            "219/219 [==============================] - 2s 6ms/step - loss: 0.5214 - accuracy: 0.8364 - val_loss: 0.0382 - val_accuracy: 0.9897\n",
            "Epoch 2/2\n",
            "219/219 [==============================] - 1s 6ms/step - loss: 0.0270 - accuracy: 0.9930 - val_loss: 0.0141 - val_accuracy: 0.9960\n",
            "-----Fitting for attacker: 405-----Loss:0.52473277\n",
            "Epoch 1/2\n",
            "219/219 [==============================] - 2s 6ms/step - loss: 0.5044 - accuracy: 0.8446 - val_loss: 0.0235 - val_accuracy: 0.9963\n",
            "Epoch 2/2\n",
            "219/219 [==============================] - 1s 6ms/step - loss: 0.0213 - accuracy: 0.9946 - val_loss: 0.0127 - val_accuracy: 0.9970\n",
            "-----Fitting for attacker: 407-----Loss:0.5187236\n",
            "Epoch 1/2\n",
            "219/219 [==============================] - 2s 6ms/step - loss: 0.5005 - accuracy: 0.8433 - val_loss: 0.0296 - val_accuracy: 0.9927\n",
            "Epoch 2/2\n",
            "219/219 [==============================] - 1s 6ms/step - loss: 0.0161 - accuracy: 0.9967 - val_loss: 0.0052 - val_accuracy: 0.9993\n",
            "-----Fitting for attacker: 410-----Loss:0.49014103\n",
            "Epoch 1/2\n",
            "219/219 [==============================] - 2s 6ms/step - loss: 0.5298 - accuracy: 0.8350 - val_loss: 0.0253 - val_accuracy: 0.9947\n",
            "Epoch 2/2\n",
            "219/219 [==============================] - 1s 6ms/step - loss: 0.0163 - accuracy: 0.9960 - val_loss: 0.0071 - val_accuracy: 0.9987\n",
            "-----Fitting for attacker: 414-----Loss:0.538347\n",
            "Epoch 1/2\n",
            "219/219 [==============================] - 2s 6ms/step - loss: 0.4414 - accuracy: 0.8650 - val_loss: 0.0204 - val_accuracy: 0.9943\n",
            "Epoch 2/2\n",
            "219/219 [==============================] - 1s 6ms/step - loss: 0.0104 - accuracy: 0.9974 - val_loss: 0.0105 - val_accuracy: 0.9977\n",
            "-----Fitting for attacker: 418-----Loss:0.5642136\n",
            "Epoch 1/2\n",
            "219/219 [==============================] - 2s 6ms/step - loss: 0.4547 - accuracy: 0.8579 - val_loss: 0.0134 - val_accuracy: 0.9983\n",
            "Epoch 2/2\n",
            "219/219 [==============================] - 1s 6ms/step - loss: 0.0078 - accuracy: 0.9984 - val_loss: 0.0042 - val_accuracy: 0.9997\n",
            "----------0.8----------\n",
            "-----Fitting for attacker: 101-----Loss:0.6355727\n",
            "Epoch 1/2\n",
            "219/219 [==============================] - 2s 6ms/step - loss: 0.3930 - accuracy: 0.8773 - val_loss: 0.0461 - val_accuracy: 0.9883\n",
            "Epoch 2/2\n",
            "219/219 [==============================] - 1s 5ms/step - loss: 0.0328 - accuracy: 0.9909 - val_loss: 0.0236 - val_accuracy: 0.9930\n",
            "-----Fitting for attacker: 103-----Loss:0.6861856\n",
            "Epoch 1/2\n",
            "219/219 [==============================] - 2s 6ms/step - loss: 0.3790 - accuracy: 0.8803 - val_loss: 0.0580 - val_accuracy: 0.9810\n",
            "Epoch 2/2\n",
            "219/219 [==============================] - 1s 6ms/step - loss: 0.0369 - accuracy: 0.9896 - val_loss: 0.0166 - val_accuracy: 0.9957\n",
            "-----Fitting for attacker: 105-----Loss:0.67633796\n",
            "Epoch 1/2\n",
            "219/219 [==============================] - 2s 6ms/step - loss: 0.3828 - accuracy: 0.8774 - val_loss: 0.0483 - val_accuracy: 0.9863\n",
            "Epoch 2/2\n",
            "219/219 [==============================] - 1s 6ms/step - loss: 0.0281 - accuracy: 0.9940 - val_loss: 0.0185 - val_accuracy: 0.9930\n",
            "-----Fitting for attacker: 125-----Loss:0.7716289\n",
            "Epoch 1/2\n",
            "219/219 [==============================] - 2s 6ms/step - loss: 0.3699 - accuracy: 0.8891 - val_loss: 0.0505 - val_accuracy: 0.9847\n",
            "Epoch 2/2\n",
            "219/219 [==============================] - 1s 6ms/step - loss: 0.0235 - accuracy: 0.9943 - val_loss: 0.0234 - val_accuracy: 0.9917\n",
            "-----Fitting for attacker: 128-----Loss:0.54875416\n",
            "Epoch 1/2\n",
            "219/219 [==============================] - 2s 6ms/step - loss: 0.3631 - accuracy: 0.8916 - val_loss: 0.0468 - val_accuracy: 0.9877\n",
            "Epoch 2/2\n",
            "219/219 [==============================] - 1s 6ms/step - loss: 0.0213 - accuracy: 0.9934 - val_loss: 0.0191 - val_accuracy: 0.9937\n",
            "-----Fitting for attacker: 132-----Loss:0.46924728\n",
            "Epoch 1/2\n",
            "219/219 [==============================] - 2s 6ms/step - loss: 0.2872 - accuracy: 0.9126 - val_loss: 0.0222 - val_accuracy: 0.9950\n",
            "Epoch 2/2\n",
            "219/219 [==============================] - 1s 6ms/step - loss: 0.0155 - accuracy: 0.9956 - val_loss: 0.0107 - val_accuracy: 0.9977\n",
            "-----Fitting for attacker: 135-----Loss:0.39592192\n",
            "Epoch 1/2\n",
            "219/219 [==============================] - 2s 6ms/step - loss: 0.2915 - accuracy: 0.9126 - val_loss: 0.0186 - val_accuracy: 0.9933\n",
            "Epoch 2/2\n",
            "219/219 [==============================] - 1s 5ms/step - loss: 0.0137 - accuracy: 0.9961 - val_loss: 0.0207 - val_accuracy: 0.9927\n",
            "----------0.7----------\n",
            "-----Fitting for attacker: 101-----Loss:0.7439914\n",
            "Epoch 1/2\n",
            "219/219 [==============================] - 2s 6ms/step - loss: 0.3286 - accuracy: 0.8973 - val_loss: 0.0125 - val_accuracy: 0.9977\n",
            "Epoch 2/2\n",
            "219/219 [==============================] - 1s 6ms/step - loss: 0.0081 - accuracy: 0.9984 - val_loss: 0.0048 - val_accuracy: 0.9983\n",
            "-----Fitting for attacker: 103-----Loss:0.7429244\n",
            "Epoch 1/2\n",
            "219/219 [==============================] - 2s 6ms/step - loss: 0.3328 - accuracy: 0.8993 - val_loss: 0.0154 - val_accuracy: 0.9963\n",
            "Epoch 2/2\n",
            "219/219 [==============================] - 1s 6ms/step - loss: 0.0079 - accuracy: 0.9984 - val_loss: 0.0048 - val_accuracy: 0.9983\n",
            "-----Fitting for attacker: 132-----Loss:0.7587078\n",
            "Epoch 1/2\n",
            "219/219 [==============================] - 2s 6ms/step - loss: 0.3416 - accuracy: 0.8950 - val_loss: 0.0613 - val_accuracy: 0.9823\n",
            "Epoch 2/2\n",
            "219/219 [==============================] - 1s 5ms/step - loss: 0.0457 - accuracy: 0.9866 - val_loss: 0.0373 - val_accuracy: 0.9870\n",
            "-----Fitting for attacker: 135-----Loss:0.7198535\n",
            "Epoch 1/2\n",
            "219/219 [==============================] - 2s 6ms/step - loss: 0.3496 - accuracy: 0.8973 - val_loss: 0.0503 - val_accuracy: 0.9860\n",
            "Epoch 2/2\n",
            "219/219 [==============================] - 1s 6ms/step - loss: 0.0407 - accuracy: 0.9871 - val_loss: 0.0269 - val_accuracy: 0.9923\n",
            "-----Fitting for attacker: 138-----Loss:0.6525693\n",
            "Epoch 1/2\n",
            "219/219 [==============================] - 2s 6ms/step - loss: 0.3297 - accuracy: 0.8950 - val_loss: 0.0715 - val_accuracy: 0.9763\n",
            "Epoch 2/2\n",
            "219/219 [==============================] - 1s 6ms/step - loss: 0.0421 - accuracy: 0.9873 - val_loss: 0.0382 - val_accuracy: 0.9897\n",
            "-----Fitting for attacker: 140-----Loss:0.5711069\n",
            "Epoch 1/2\n",
            "219/219 [==============================] - 2s 6ms/step - loss: 0.3517 - accuracy: 0.8903 - val_loss: 0.0540 - val_accuracy: 0.9837\n",
            "Epoch 2/2\n",
            "219/219 [==============================] - 1s 6ms/step - loss: 0.0353 - accuracy: 0.9899 - val_loss: 0.0255 - val_accuracy: 0.9913\n",
            "-----Fitting for attacker: 145-----Loss:0.53947747\n",
            "Epoch 1/2\n",
            "219/219 [==============================] - 2s 6ms/step - loss: 0.2993 - accuracy: 0.9080 - val_loss: 0.0251 - val_accuracy: 0.9937\n",
            "Epoch 2/2\n",
            "219/219 [==============================] - 1s 6ms/step - loss: 0.0218 - accuracy: 0.9931 - val_loss: 0.0178 - val_accuracy: 0.9953\n",
            "-----Fitting for attacker: 149-----Loss:0.6027822\n",
            "Epoch 1/2\n",
            "219/219 [==============================] - 2s 6ms/step - loss: 0.2675 - accuracy: 0.9243 - val_loss: 0.0119 - val_accuracy: 0.9967\n",
            "Epoch 2/2\n",
            "219/219 [==============================] - 1s 6ms/step - loss: 0.0112 - accuracy: 0.9963 - val_loss: 0.0034 - val_accuracy: 0.9990\n",
            "-----Fitting for attacker: 151-----Loss:0.6397308\n",
            "Epoch 1/2\n",
            "219/219 [==============================] - 2s 6ms/step - loss: 0.2294 - accuracy: 0.9351 - val_loss: 0.0067 - val_accuracy: 0.9987\n",
            "Epoch 2/2\n",
            "219/219 [==============================] - 1s 6ms/step - loss: 0.0081 - accuracy: 0.9979 - val_loss: 0.0023 - val_accuracy: 0.9993\n",
            "-----Fitting for attacker: 252-----Loss:0.655856\n",
            "Epoch 1/2\n",
            "219/219 [==============================] - 2s 6ms/step - loss: 0.3467 - accuracy: 0.8874 - val_loss: 0.0326 - val_accuracy: 0.9907\n",
            "Epoch 2/2\n",
            "219/219 [==============================] - 1s 6ms/step - loss: 0.0366 - accuracy: 0.9879 - val_loss: 0.0122 - val_accuracy: 0.9963\n",
            "-----Fitting for attacker: 254-----Loss:0.61985004\n",
            "Epoch 1/2\n",
            "219/219 [==============================] - 2s 6ms/step - loss: 0.3241 - accuracy: 0.9001 - val_loss: 0.0372 - val_accuracy: 0.9897\n",
            "Epoch 2/2\n",
            "219/219 [==============================] - 1s 5ms/step - loss: 0.0340 - accuracy: 0.9894 - val_loss: 0.0205 - val_accuracy: 0.9950\n",
            "-----Fitting for attacker: 257-----Loss:0.60479534\n",
            "Epoch 1/2\n",
            "219/219 [==============================] - 2s 6ms/step - loss: 0.3600 - accuracy: 0.8884 - val_loss: 0.0295 - val_accuracy: 0.9933\n",
            "Epoch 2/2\n",
            "219/219 [==============================] - 1s 6ms/step - loss: 0.0267 - accuracy: 0.9923 - val_loss: 0.0233 - val_accuracy: 0.9920\n",
            "-----Fitting for attacker: 261-----Loss:0.6053159\n",
            "Epoch 1/2\n",
            "219/219 [==============================] - 2s 6ms/step - loss: 0.3298 - accuracy: 0.8981 - val_loss: 0.0371 - val_accuracy: 0.9900\n",
            "Epoch 2/2\n",
            "219/219 [==============================] - 1s 6ms/step - loss: 0.0241 - accuracy: 0.9931 - val_loss: 0.0134 - val_accuracy: 0.9960\n",
            "-----Fitting for attacker: 265-----Loss:0.6219264\n",
            "Epoch 1/2\n",
            "219/219 [==============================] - 2s 6ms/step - loss: 0.3102 - accuracy: 0.9039 - val_loss: 0.0285 - val_accuracy: 0.9917\n",
            "Epoch 2/2\n",
            "219/219 [==============================] - 1s 6ms/step - loss: 0.0215 - accuracy: 0.9944 - val_loss: 0.0202 - val_accuracy: 0.9940\n",
            "-----Fitting for attacker: 268-----Loss:0.67044723\n",
            "Epoch 1/2\n",
            "219/219 [==============================] - 2s 6ms/step - loss: 0.2815 - accuracy: 0.9156 - val_loss: 0.0225 - val_accuracy: 0.9927\n",
            "Epoch 2/2\n",
            "219/219 [==============================] - 1s 6ms/step - loss: 0.0185 - accuracy: 0.9951 - val_loss: 0.0285 - val_accuracy: 0.9900\n",
            "-----Fitting for attacker: 271-----Loss:0.6952788\n",
            "Epoch 1/2\n",
            "219/219 [==============================] - 2s 6ms/step - loss: 0.2707 - accuracy: 0.9220 - val_loss: 0.0231 - val_accuracy: 0.9947\n",
            "Epoch 2/2\n",
            "219/219 [==============================] - 1s 6ms/step - loss: 0.0142 - accuracy: 0.9961 - val_loss: 0.0068 - val_accuracy: 0.9983\n",
            "-----Fitting for attacker: 273-----Loss:0.6935681\n",
            "Epoch 1/2\n",
            "219/219 [==============================] - 2s 6ms/step - loss: 0.2684 - accuracy: 0.9180 - val_loss: 0.0254 - val_accuracy: 0.9923\n",
            "Epoch 2/2\n",
            "219/219 [==============================] - 1s 6ms/step - loss: 0.0212 - accuracy: 0.9924 - val_loss: 0.0081 - val_accuracy: 0.9973\n",
            "-----Fitting for attacker: 275-----Loss:0.73357826\n",
            "Epoch 1/2\n",
            "219/219 [==============================] - 2s 6ms/step - loss: 0.2687 - accuracy: 0.9163 - val_loss: 0.0174 - val_accuracy: 0.9963\n",
            "Epoch 2/2\n",
            "219/219 [==============================] - 1s 6ms/step - loss: 0.0186 - accuracy: 0.9939 - val_loss: 0.0052 - val_accuracy: 0.9990\n",
            "-----Fitting for attacker: 310-----Loss:0.72214836\n",
            "Epoch 1/2\n",
            "219/219 [==============================] - 2s 6ms/step - loss: 0.3598 - accuracy: 0.8853 - val_loss: 0.0292 - val_accuracy: 0.9900\n",
            "Epoch 2/2\n",
            "219/219 [==============================] - 1s 6ms/step - loss: 0.0204 - accuracy: 0.9946 - val_loss: 0.0151 - val_accuracy: 0.9960\n",
            "-----Fitting for attacker: 314-----Loss:0.6639493\n",
            "Epoch 1/2\n",
            "219/219 [==============================] - 2s 6ms/step - loss: 0.3400 - accuracy: 0.8946 - val_loss: 0.0324 - val_accuracy: 0.9903\n",
            "Epoch 2/2\n",
            "219/219 [==============================] - 1s 6ms/step - loss: 0.0205 - accuracy: 0.9946 - val_loss: 0.0222 - val_accuracy: 0.9913\n",
            "-----Fitting for attacker: 318-----Loss:0.65306383\n",
            "Epoch 1/2\n",
            "219/219 [==============================] - 2s 6ms/step - loss: 0.3526 - accuracy: 0.8910 - val_loss: 0.0204 - val_accuracy: 0.9940\n",
            "Epoch 2/2\n",
            "219/219 [==============================] - 1s 6ms/step - loss: 0.0162 - accuracy: 0.9953 - val_loss: 0.0247 - val_accuracy: 0.9913\n",
            "-----Fitting for attacker: 320-----Loss:0.6651684\n",
            "Epoch 1/2\n",
            "219/219 [==============================] - 2s 8ms/step - loss: 0.3426 - accuracy: 0.8971 - val_loss: 0.0504 - val_accuracy: 0.9837\n",
            "Epoch 2/2\n",
            "219/219 [==============================] - 1s 6ms/step - loss: 0.0201 - accuracy: 0.9940 - val_loss: 0.0228 - val_accuracy: 0.9927\n",
            "-----Fitting for attacker: 324-----Loss:0.6715067\n",
            "Epoch 1/2\n",
            "219/219 [==============================] - 2s 6ms/step - loss: 0.3375 - accuracy: 0.8951 - val_loss: 0.0575 - val_accuracy: 0.9803\n",
            "Epoch 2/2\n",
            "219/219 [==============================] - 1s 6ms/step - loss: 0.0227 - accuracy: 0.9941 - val_loss: 0.0214 - val_accuracy: 0.9950\n",
            "-----Fitting for attacker: 328-----Loss:0.65884995\n",
            "Epoch 1/2\n",
            "219/219 [==============================] - 2s 6ms/step - loss: 0.3190 - accuracy: 0.9007 - val_loss: 0.0224 - val_accuracy: 0.9933\n",
            "Epoch 2/2\n",
            "219/219 [==============================] - 1s 6ms/step - loss: 0.0181 - accuracy: 0.9947 - val_loss: 0.0230 - val_accuracy: 0.9920\n",
            "-----Fitting for attacker: 334-----Loss:0.6487238\n",
            "Epoch 1/2\n",
            "219/219 [==============================] - 2s 6ms/step - loss: 0.3132 - accuracy: 0.9037 - val_loss: 0.0242 - val_accuracy: 0.9937\n",
            "Epoch 2/2\n",
            "219/219 [==============================] - 1s 6ms/step - loss: 0.0143 - accuracy: 0.9960 - val_loss: 0.0124 - val_accuracy: 0.9960\n",
            "-----Fitting for attacker: 400-----Loss:0.6410415\n",
            "Epoch 1/2\n",
            "219/219 [==============================] - 2s 6ms/step - loss: 0.2602 - accuracy: 0.9189 - val_loss: 0.0093 - val_accuracy: 0.9973\n",
            "Epoch 2/2\n",
            "219/219 [==============================] - 1s 6ms/step - loss: 0.0048 - accuracy: 0.9987 - val_loss: 0.0065 - val_accuracy: 0.9983\n",
            "-----Fitting for attacker: 403-----Loss:0.6583512\n",
            "Epoch 1/2\n",
            "219/219 [==============================] - 2s 6ms/step - loss: 0.2409 - accuracy: 0.9259 - val_loss: 0.0051 - val_accuracy: 0.9997\n",
            "Epoch 2/2\n",
            "219/219 [==============================] - 1s 6ms/step - loss: 0.0064 - accuracy: 0.9987 - val_loss: 0.0020 - val_accuracy: 1.0000\n",
            "-----Fitting for attacker: 408-----Loss:0.60665715\n",
            "Epoch 1/2\n",
            "219/219 [==============================] - 2s 6ms/step - loss: 0.2423 - accuracy: 0.9239 - val_loss: 0.0193 - val_accuracy: 0.9947\n",
            "Epoch 2/2\n",
            "219/219 [==============================] - 1s 6ms/step - loss: 0.0052 - accuracy: 0.9989 - val_loss: 0.0049 - val_accuracy: 0.9987\n",
            "-----Fitting for attacker: 410-----Loss:0.62853\n",
            "Epoch 1/2\n",
            "219/219 [==============================] - 2s 6ms/step - loss: 0.2332 - accuracy: 0.9324 - val_loss: 0.0068 - val_accuracy: 0.9990\n",
            "Epoch 2/2\n",
            "219/219 [==============================] - 1s 6ms/step - loss: 0.0059 - accuracy: 0.9987 - val_loss: 0.0044 - val_accuracy: 0.9997\n",
            "-----Fitting for attacker: 413-----Loss:0.579605\n",
            "Epoch 1/2\n",
            "219/219 [==============================] - 2s 6ms/step - loss: 0.2417 - accuracy: 0.9293 - val_loss: 0.0110 - val_accuracy: 0.9973\n",
            "Epoch 2/2\n",
            "219/219 [==============================] - 1s 6ms/step - loss: 0.0097 - accuracy: 0.9970 - val_loss: 0.0041 - val_accuracy: 0.9990\n",
            "-----Fitting for attacker: 416-----Loss:0.57214236\n",
            "Epoch 1/2\n",
            "219/219 [==============================] - 2s 6ms/step - loss: 0.2268 - accuracy: 0.9330 - val_loss: 0.0057 - val_accuracy: 0.9990\n",
            "Epoch 2/2\n",
            "219/219 [==============================] - 1s 6ms/step - loss: 0.0094 - accuracy: 0.9973 - val_loss: 0.0054 - val_accuracy: 0.9987\n",
            "-----Fitting for attacker: 423-----Loss:0.5630571\n",
            "Epoch 1/2\n",
            "219/219 [==============================] - 2s 6ms/step - loss: 0.2333 - accuracy: 0.9303 - val_loss: 0.0067 - val_accuracy: 0.9983\n",
            "Epoch 2/2\n",
            "219/219 [==============================] - 1s 6ms/step - loss: 0.0081 - accuracy: 0.9974 - val_loss: 0.0035 - val_accuracy: 0.9997\n",
            "-----Fitting for attacker: 452-----Loss:0.5682483\n",
            "Epoch 1/2\n",
            "219/219 [==============================] - 2s 6ms/step - loss: 0.2679 - accuracy: 0.9174 - val_loss: 0.0140 - val_accuracy: 0.9963\n",
            "Epoch 2/2\n",
            "219/219 [==============================] - 1s 6ms/step - loss: 0.0081 - accuracy: 0.9980 - val_loss: 0.0056 - val_accuracy: 0.9983\n",
            "-----Fitting for attacker: 460-----Loss:0.5697819\n",
            "Epoch 1/2\n",
            "219/219 [==============================] - 2s 6ms/step - loss: 0.3105 - accuracy: 0.9056 - val_loss: 0.0269 - val_accuracy: 0.9923\n",
            "Epoch 2/2\n",
            "219/219 [==============================] - 1s 6ms/step - loss: 0.0110 - accuracy: 0.9977 - val_loss: 0.0111 - val_accuracy: 0.9967\n",
            "-----Fitting for attacker: 463-----Loss:0.57367647\n",
            "Epoch 1/2\n",
            "219/219 [==============================] - 2s 6ms/step - loss: 0.3187 - accuracy: 0.9029 - val_loss: 0.0192 - val_accuracy: 0.9967\n",
            "Epoch 2/2\n",
            "219/219 [==============================] - 1s 6ms/step - loss: 0.0090 - accuracy: 0.9980 - val_loss: 0.0040 - val_accuracy: 0.9990\n",
            "-----Fitting for attacker: 466-----Loss:0.5137659\n",
            "Epoch 1/2\n",
            "219/219 [==============================] - 2s 6ms/step - loss: 0.3345 - accuracy: 0.8913 - val_loss: 0.0203 - val_accuracy: 0.9950\n",
            "Epoch 2/2\n",
            "219/219 [==============================] - 1s 6ms/step - loss: 0.0105 - accuracy: 0.9979 - val_loss: 0.0049 - val_accuracy: 0.9993\n",
            "-----Fitting for attacker: 468-----Loss:0.51099044\n",
            "Epoch 1/2\n",
            "219/219 [==============================] - 2s 6ms/step - loss: 0.3363 - accuracy: 0.8933 - val_loss: 0.0163 - val_accuracy: 0.9960\n",
            "Epoch 2/2\n",
            "219/219 [==============================] - 1s 6ms/step - loss: 0.0082 - accuracy: 0.9983 - val_loss: 0.0034 - val_accuracy: 0.9997\n",
            "----------0.6----------\n",
            "-----Fitting for attacker: 102-----Loss:0.70042896\n",
            "Epoch 1/2\n",
            "219/219 [==============================] - 2s 6ms/step - loss: 0.3410 - accuracy: 0.8901 - val_loss: 0.0380 - val_accuracy: 0.9900\n",
            "Epoch 2/2\n",
            "219/219 [==============================] - 1s 6ms/step - loss: 0.0292 - accuracy: 0.9903 - val_loss: 0.0181 - val_accuracy: 0.9953\n",
            "-----Fitting for attacker: 106-----Loss:0.65664184\n",
            "Epoch 1/2\n",
            "219/219 [==============================] - 2s 8ms/step - loss: 0.3858 - accuracy: 0.8753 - val_loss: 0.0480 - val_accuracy: 0.9863\n",
            "Epoch 2/2\n",
            "219/219 [==============================] - 2s 8ms/step - loss: 0.0281 - accuracy: 0.9919 - val_loss: 0.0193 - val_accuracy: 0.9933\n",
            "-----Fitting for attacker: 109-----Loss:0.61134815\n",
            "Epoch 1/2\n",
            "219/219 [==============================] - 2s 6ms/step - loss: 0.4401 - accuracy: 0.8600 - val_loss: 0.0393 - val_accuracy: 0.9897\n",
            "Epoch 2/2\n",
            "219/219 [==============================] - 1s 6ms/step - loss: 0.0264 - accuracy: 0.9929 - val_loss: 0.0134 - val_accuracy: 0.9963\n",
            "-----Fitting for attacker: 111-----Loss:0.62107074\n",
            "Epoch 1/2\n",
            "219/219 [==============================] - 2s 6ms/step - loss: 0.4713 - accuracy: 0.8547 - val_loss: 0.0841 - val_accuracy: 0.9750\n",
            "Epoch 2/2\n",
            "219/219 [==============================] - 1s 6ms/step - loss: 0.0309 - accuracy: 0.9913 - val_loss: 0.0134 - val_accuracy: 0.9967\n",
            "-----Fitting for attacker: 115-----Loss:0.55497086\n",
            "Epoch 1/2\n",
            "219/219 [==============================] - 2s 6ms/step - loss: 0.4759 - accuracy: 0.8510 - val_loss: 0.0529 - val_accuracy: 0.9867\n",
            "Epoch 2/2\n",
            "219/219 [==============================] - 1s 6ms/step - loss: 0.0261 - accuracy: 0.9933 - val_loss: 0.0233 - val_accuracy: 0.9930\n",
            "-----Fitting for attacker: 117-----Loss:0.52606535\n",
            "Epoch 1/2\n",
            "219/219 [==============================] - 2s 6ms/step - loss: 0.4995 - accuracy: 0.8434 - val_loss: 0.0731 - val_accuracy: 0.9763\n",
            "Epoch 2/2\n",
            "219/219 [==============================] - 1s 6ms/step - loss: 0.0292 - accuracy: 0.9920 - val_loss: 0.0196 - val_accuracy: 0.9930\n",
            "-----Fitting for attacker: 256-----Loss:0.52189505\n",
            "Epoch 1/2\n",
            "219/219 [==============================] - 2s 6ms/step - loss: 0.4140 - accuracy: 0.8656 - val_loss: 0.0285 - val_accuracy: 0.9927\n",
            "Epoch 2/2\n",
            "219/219 [==============================] - 1s 6ms/step - loss: 0.0157 - accuracy: 0.9964 - val_loss: 0.0125 - val_accuracy: 0.9973\n",
            "----------0.5----------\n",
            "-----Fitting for attacker: 102-----Loss:0.53473175\n",
            "Epoch 1/2\n",
            "219/219 [==============================] - 2s 6ms/step - loss: 0.3911 - accuracy: 0.8757 - val_loss: 0.0425 - val_accuracy: 0.9850\n",
            "Epoch 2/2\n",
            "219/219 [==============================] - 1s 6ms/step - loss: 0.0242 - accuracy: 0.9940 - val_loss: 0.0125 - val_accuracy: 0.9963\n",
            "-----Fitting for attacker: 104-----Loss:0.4830511\n",
            "Epoch 1/2\n",
            "219/219 [==============================] - 2s 6ms/step - loss: 0.3958 - accuracy: 0.8797 - val_loss: 0.0543 - val_accuracy: 0.9823\n",
            "Epoch 2/2\n",
            "219/219 [==============================] - 1s 6ms/step - loss: 0.0233 - accuracy: 0.9941 - val_loss: 0.0147 - val_accuracy: 0.9953\n",
            "-----Fitting for attacker: 108-----Loss:0.5609255\n",
            "Epoch 1/2\n",
            "219/219 [==============================] - 2s 6ms/step - loss: 0.3775 - accuracy: 0.8850 - val_loss: 0.0262 - val_accuracy: 0.9950\n",
            "Epoch 2/2\n",
            "219/219 [==============================] - 1s 6ms/step - loss: 0.0156 - accuracy: 0.9959 - val_loss: 0.0071 - val_accuracy: 0.9983\n",
            "-----Fitting for attacker: 110-----Loss:0.5515542\n",
            "Epoch 1/2\n",
            "219/219 [==============================] - 2s 6ms/step - loss: 0.3687 - accuracy: 0.8791 - val_loss: 0.0264 - val_accuracy: 0.9930\n",
            "Epoch 2/2\n",
            "219/219 [==============================] - 1s 6ms/step - loss: 0.0185 - accuracy: 0.9953 - val_loss: 0.0092 - val_accuracy: 0.9973\n",
            "-----Fitting for attacker: 112-----Loss:0.5723493\n",
            "Epoch 1/2\n",
            "219/219 [==============================] - 2s 8ms/step - loss: 0.3756 - accuracy: 0.8834 - val_loss: 0.0286 - val_accuracy: 0.9923\n",
            "Epoch 2/2\n",
            "219/219 [==============================] - 1s 6ms/step - loss: 0.0153 - accuracy: 0.9960 - val_loss: 0.0146 - val_accuracy: 0.9970\n",
            "-----Fitting for attacker: 146-----Loss:0.6083967\n",
            "Epoch 1/2\n",
            "219/219 [==============================] - 2s 6ms/step - loss: 0.4125 - accuracy: 0.8737 - val_loss: 0.0504 - val_accuracy: 0.9863\n",
            "Epoch 2/2\n",
            "219/219 [==============================] - 1s 6ms/step - loss: 0.0313 - accuracy: 0.9907 - val_loss: 0.0232 - val_accuracy: 0.9940\n",
            "-----Fitting for attacker: 150-----Loss:0.61190003\n",
            "Epoch 1/2\n",
            "219/219 [==============================] - 2s 6ms/step - loss: 0.3596 - accuracy: 0.8809 - val_loss: 0.0330 - val_accuracy: 0.9917\n",
            "Epoch 2/2\n",
            "219/219 [==============================] - 1s 6ms/step - loss: 0.0159 - accuracy: 0.9957 - val_loss: 0.0257 - val_accuracy: 0.9937\n",
            "-----Fitting for attacker: 152-----Loss:0.65163195\n",
            "Epoch 1/2\n",
            "219/219 [==============================] - 2s 6ms/step - loss: 0.3402 - accuracy: 0.8954 - val_loss: 0.0315 - val_accuracy: 0.9920\n",
            "Epoch 2/2\n",
            "219/219 [==============================] - 1s 6ms/step - loss: 0.0144 - accuracy: 0.9966 - val_loss: 0.0111 - val_accuracy: 0.9973\n",
            "-----Fitting for attacker: 154-----Loss:0.72663397\n",
            "Epoch 1/2\n",
            "219/219 [==============================] - 2s 6ms/step - loss: 0.3176 - accuracy: 0.9093 - val_loss: 0.0217 - val_accuracy: 0.9950\n",
            "Epoch 2/2\n",
            "219/219 [==============================] - 1s 6ms/step - loss: 0.0098 - accuracy: 0.9971 - val_loss: 0.0098 - val_accuracy: 0.9977\n",
            "-----Fitting for attacker: 156-----Loss:0.71143985\n",
            "Epoch 1/2\n",
            "219/219 [==============================] - 2s 6ms/step - loss: 0.2723 - accuracy: 0.9193 - val_loss: 0.0168 - val_accuracy: 0.9947\n",
            "Epoch 2/2\n",
            "219/219 [==============================] - 1s 6ms/step - loss: 0.0095 - accuracy: 0.9981 - val_loss: 0.0088 - val_accuracy: 0.9977\n",
            "-----Fitting for attacker: 204-----Loss:0.6633921\n",
            "Epoch 1/2\n",
            "219/219 [==============================] - 2s 6ms/step - loss: 0.4360 - accuracy: 0.8639 - val_loss: 0.0519 - val_accuracy: 0.9840\n",
            "Epoch 2/2\n",
            "219/219 [==============================] - 1s 6ms/step - loss: 0.0258 - accuracy: 0.9937 - val_loss: 0.0207 - val_accuracy: 0.9943\n",
            "-----Fitting for attacker: 208-----Loss:0.6834948\n",
            "Epoch 1/2\n",
            "219/219 [==============================] - 2s 6ms/step - loss: 0.4243 - accuracy: 0.8676 - val_loss: 0.0718 - val_accuracy: 0.9760\n",
            "Epoch 2/2\n",
            "219/219 [==============================] - 1s 6ms/step - loss: 0.0251 - accuracy: 0.9930 - val_loss: 0.0161 - val_accuracy: 0.9953\n",
            "-----Fitting for attacker: 211-----Loss:0.66420275\n",
            "Epoch 1/2\n",
            "219/219 [==============================] - 2s 6ms/step - loss: 0.4164 - accuracy: 0.8754 - val_loss: 0.0460 - val_accuracy: 0.9873\n",
            "Epoch 2/2\n",
            "219/219 [==============================] - 1s 6ms/step - loss: 0.0265 - accuracy: 0.9910 - val_loss: 0.0267 - val_accuracy: 0.9913\n",
            "-----Fitting for attacker: 213-----Loss:0.7151745\n",
            "Epoch 1/2\n",
            "219/219 [==============================] - 2s 6ms/step - loss: 0.4128 - accuracy: 0.8660 - val_loss: 0.0494 - val_accuracy: 0.9853\n",
            "Epoch 2/2\n",
            "219/219 [==============================] - 1s 6ms/step - loss: 0.0287 - accuracy: 0.9914 - val_loss: 0.0214 - val_accuracy: 0.9940\n",
            "----------0.4----------\n",
            "-----Fitting for attacker: 102-----Loss:0.95052135\n",
            "Epoch 1/2\n",
            "219/219 [==============================] - 2s 6ms/step - loss: 0.3283 - accuracy: 0.8981 - val_loss: 0.0133 - val_accuracy: 0.9967\n",
            "Epoch 2/2\n",
            "219/219 [==============================] - 1s 6ms/step - loss: 0.0099 - accuracy: 0.9983 - val_loss: 0.0025 - val_accuracy: 0.9997\n",
            "-----Fitting for attacker: 104-----Loss:1.0368382\n",
            "Epoch 1/2\n",
            "219/219 [==============================] - 2s 6ms/step - loss: 0.3154 - accuracy: 0.8996 - val_loss: 0.0108 - val_accuracy: 0.9977\n",
            "Epoch 2/2\n",
            "219/219 [==============================] - 1s 6ms/step - loss: 0.0125 - accuracy: 0.9966 - val_loss: 0.0027 - val_accuracy: 0.9997\n",
            "-----Fitting for attacker: 106-----Loss:0.9555261\n",
            "Epoch 1/2\n",
            "219/219 [==============================] - 2s 6ms/step - loss: 0.3174 - accuracy: 0.9006 - val_loss: 0.0114 - val_accuracy: 0.9963\n",
            "Epoch 2/2\n",
            "219/219 [==============================] - 1s 6ms/step - loss: 0.0133 - accuracy: 0.9960 - val_loss: 0.0035 - val_accuracy: 0.9993\n",
            "-----Fitting for attacker: 112-----Loss:0.96416336\n",
            "Epoch 1/2\n",
            "219/219 [==============================] - 2s 6ms/step - loss: 0.3116 - accuracy: 0.8989 - val_loss: 0.0180 - val_accuracy: 0.9947\n",
            "Epoch 2/2\n",
            "219/219 [==============================] - 1s 6ms/step - loss: 0.0114 - accuracy: 0.9969 - val_loss: 0.0021 - val_accuracy: 0.9993\n",
            "-----Fitting for attacker: 114-----Loss:1.0676386\n",
            "Epoch 1/2\n",
            "219/219 [==============================] - 2s 6ms/step - loss: 0.3175 - accuracy: 0.9037 - val_loss: 0.0211 - val_accuracy: 0.9950\n",
            "Epoch 2/2\n",
            "219/219 [==============================] - 1s 6ms/step - loss: 0.0115 - accuracy: 0.9971 - val_loss: 0.0066 - val_accuracy: 0.9980\n",
            "-----Fitting for attacker: 117-----Loss:1.0249417\n",
            "Epoch 1/2\n",
            "219/219 [==============================] - 2s 6ms/step - loss: 0.2995 - accuracy: 0.9084 - val_loss: 0.0159 - val_accuracy: 0.9967\n",
            "Epoch 2/2\n",
            "219/219 [==============================] - 1s 6ms/step - loss: 0.0108 - accuracy: 0.9974 - val_loss: 0.0070 - val_accuracy: 0.9980\n",
            "-----Fitting for attacker: 119-----Loss:1.0421003\n",
            "Epoch 1/2\n",
            "219/219 [==============================] - 2s 6ms/step - loss: 0.3157 - accuracy: 0.9044 - val_loss: 0.0207 - val_accuracy: 0.9950\n",
            "Epoch 2/2\n",
            "219/219 [==============================] - 1s 6ms/step - loss: 0.0113 - accuracy: 0.9976 - val_loss: 0.0102 - val_accuracy: 0.9970\n",
            "-----Fitting for attacker: 121-----Loss:1.0516616\n",
            "Epoch 1/2\n",
            "219/219 [==============================] - 2s 6ms/step - loss: 0.2976 - accuracy: 0.9120 - val_loss: 0.0163 - val_accuracy: 0.9957\n",
            "Epoch 2/2\n",
            "219/219 [==============================] - 1s 6ms/step - loss: 0.0142 - accuracy: 0.9956 - val_loss: 0.0104 - val_accuracy: 0.9977\n",
            "-----Fitting for attacker: 126-----Loss:1.0983022\n",
            "Epoch 1/2\n",
            "219/219 [==============================] - 2s 6ms/step - loss: 0.3058 - accuracy: 0.9060 - val_loss: 0.0239 - val_accuracy: 0.9937\n",
            "Epoch 2/2\n",
            "219/219 [==============================] - 1s 6ms/step - loss: 0.0125 - accuracy: 0.9971 - val_loss: 0.0164 - val_accuracy: 0.9963\n",
            "----------0.3----------\n",
            "-----Fitting for attacker: 102-----Loss:1.4630624\n",
            "Epoch 1/2\n",
            "219/219 [==============================] - 2s 6ms/step - loss: 0.2502 - accuracy: 0.9234 - val_loss: 0.0079 - val_accuracy: 0.9980\n",
            "Epoch 2/2\n",
            "219/219 [==============================] - 1s 6ms/step - loss: 0.0043 - accuracy: 0.9991 - val_loss: 0.0103 - val_accuracy: 0.9967\n",
            "-----Fitting for attacker: 104-----Loss:1.6422291\n",
            "Epoch 1/2\n",
            "219/219 [==============================] - 2s 6ms/step - loss: 0.2665 - accuracy: 0.9199 - val_loss: 0.0055 - val_accuracy: 0.9990\n",
            "Epoch 2/2\n",
            "219/219 [==============================] - 1s 6ms/step - loss: 0.0087 - accuracy: 0.9979 - val_loss: 0.0065 - val_accuracy: 0.9983\n",
            "-----Fitting for attacker: 106-----Loss:1.5411155\n",
            "Epoch 1/2\n",
            "219/219 [==============================] - 2s 6ms/step - loss: 0.2667 - accuracy: 0.9236 - val_loss: 0.0083 - val_accuracy: 0.9980\n",
            "Epoch 2/2\n",
            "219/219 [==============================] - 1s 6ms/step - loss: 0.0099 - accuracy: 0.9964 - val_loss: 0.0038 - val_accuracy: 0.9987\n",
            "-----Fitting for attacker: 108-----Loss:1.6474462\n",
            "Epoch 1/2\n",
            "219/219 [==============================] - 2s 6ms/step - loss: 0.2571 - accuracy: 0.9250 - val_loss: 0.0096 - val_accuracy: 0.9973\n",
            "Epoch 2/2\n",
            "219/219 [==============================] - 1s 6ms/step - loss: 0.0072 - accuracy: 0.9983 - val_loss: 0.0024 - val_accuracy: 0.9993\n",
            "-----Fitting for attacker: 112-----Loss:1.6965371\n",
            "Epoch 1/2\n",
            "219/219 [==============================] - 2s 6ms/step - loss: 0.2720 - accuracy: 0.9223 - val_loss: 0.0109 - val_accuracy: 0.9963\n",
            "Epoch 2/2\n",
            "219/219 [==============================] - 1s 6ms/step - loss: 0.0098 - accuracy: 0.9969 - val_loss: 0.0049 - val_accuracy: 0.9990\n",
            "-----Fitting for attacker: 114-----Loss:1.7138352\n",
            "Epoch 1/2\n",
            "219/219 [==============================] - 2s 6ms/step - loss: 0.2977 - accuracy: 0.9109 - val_loss: 0.0347 - val_accuracy: 0.9910\n",
            "Epoch 2/2\n",
            "219/219 [==============================] - 1s 6ms/step - loss: 0.0100 - accuracy: 0.9974 - val_loss: 0.0147 - val_accuracy: 0.9947\n",
            "-----Fitting for attacker: 117-----Loss:1.7347219\n",
            "Epoch 1/2\n",
            "219/219 [==============================] - 2s 6ms/step - loss: 0.2902 - accuracy: 0.9110 - val_loss: 0.0201 - val_accuracy: 0.9947\n",
            "Epoch 2/2\n",
            "219/219 [==============================] - 1s 6ms/step - loss: 0.0067 - accuracy: 0.9980 - val_loss: 0.0034 - val_accuracy: 0.9990\n",
            "-----Fitting for attacker: 120-----Loss:1.7746103\n",
            "Epoch 1/2\n",
            "219/219 [==============================] - 2s 7ms/step - loss: 0.2956 - accuracy: 0.9101 - val_loss: 0.0145 - val_accuracy: 0.9943\n",
            "Epoch 2/2\n",
            "219/219 [==============================] - 1s 6ms/step - loss: 0.0083 - accuracy: 0.9979 - val_loss: 0.0054 - val_accuracy: 0.9990\n",
            "-----Fitting for attacker: 124-----Loss:1.7894478\n",
            "Epoch 1/2\n",
            "219/219 [==============================] - 2s 7ms/step - loss: 0.3044 - accuracy: 0.9076 - val_loss: 0.0173 - val_accuracy: 0.9950\n",
            "Epoch 2/2\n",
            "219/219 [==============================] - 1s 6ms/step - loss: 0.0113 - accuracy: 0.9970 - val_loss: 0.0098 - val_accuracy: 0.9970\n",
            "-----Fitting for attacker: 126-----Loss:1.8460464\n",
            "Epoch 1/2\n",
            "219/219 [==============================] - 2s 6ms/step - loss: 0.3043 - accuracy: 0.9056 - val_loss: 0.0165 - val_accuracy: 0.9950\n",
            "Epoch 2/2\n",
            "219/219 [==============================] - 1s 6ms/step - loss: 0.0105 - accuracy: 0.9979 - val_loss: 0.0055 - val_accuracy: 0.9987\n",
            "-----Fitting for attacker: 129-----Loss:1.7588265\n",
            "Epoch 1/2\n",
            "219/219 [==============================] - 2s 6ms/step - loss: 0.2901 - accuracy: 0.9126 - val_loss: 0.0180 - val_accuracy: 0.9950\n",
            "Epoch 2/2\n",
            "219/219 [==============================] - 1s 6ms/step - loss: 0.0087 - accuracy: 0.9983 - val_loss: 0.0032 - val_accuracy: 0.9990\n",
            "-----Fitting for attacker: 136-----Loss:1.8296174\n",
            "Epoch 1/2\n",
            "219/219 [==============================] - 2s 7ms/step - loss: 0.2705 - accuracy: 0.9156 - val_loss: 0.0261 - val_accuracy: 0.9910\n",
            "Epoch 2/2\n",
            "219/219 [==============================] - 1s 6ms/step - loss: 0.0102 - accuracy: 0.9981 - val_loss: 0.0032 - val_accuracy: 1.0000\n",
            "-----Fitting for attacker: 138-----Loss:1.9727457\n",
            "Epoch 1/2\n",
            "219/219 [==============================] - 3s 10ms/step - loss: 0.2758 - accuracy: 0.9126 - val_loss: 0.0122 - val_accuracy: 0.9970\n",
            "Epoch 2/2\n",
            "219/219 [==============================] - 1s 7ms/step - loss: 0.0056 - accuracy: 0.9990 - val_loss: 0.0078 - val_accuracy: 0.9980\n",
            "-----Fitting for attacker: 140-----Loss:1.9973481\n",
            "Epoch 1/2\n",
            "219/219 [==============================] - 2s 6ms/step - loss: 0.2603 - accuracy: 0.9210 - val_loss: 0.0120 - val_accuracy: 0.9980\n",
            "Epoch 2/2\n",
            "219/219 [==============================] - 1s 6ms/step - loss: 0.0095 - accuracy: 0.9971 - val_loss: 0.0027 - val_accuracy: 0.9997\n",
            "-----Fitting for attacker: 142-----Loss:1.9397416\n",
            "Epoch 1/2\n",
            "219/219 [==============================] - 2s 7ms/step - loss: 0.2632 - accuracy: 0.9170 - val_loss: 0.0101 - val_accuracy: 0.9987\n",
            "Epoch 2/2\n",
            "219/219 [==============================] - 1s 6ms/step - loss: 0.0083 - accuracy: 0.9983 - val_loss: 0.0027 - val_accuracy: 0.9990\n",
            "-----Fitting for attacker: 144-----Loss:1.867022\n",
            "Epoch 1/2\n",
            "219/219 [==============================] - 2s 7ms/step - loss: 0.2801 - accuracy: 0.9149 - val_loss: 0.0141 - val_accuracy: 0.9970\n",
            "Epoch 2/2\n",
            "219/219 [==============================] - 1s 6ms/step - loss: 0.0088 - accuracy: 0.9971 - val_loss: 0.0026 - val_accuracy: 0.9993\n",
            "-----Fitting for attacker: 149-----Loss:2.0561047\n",
            "Epoch 1/2\n",
            "219/219 [==============================] - 2s 7ms/step - loss: 0.2832 - accuracy: 0.9114 - val_loss: 0.0106 - val_accuracy: 0.9977\n",
            "Epoch 2/2\n",
            "219/219 [==============================] - 1s 6ms/step - loss: 0.0066 - accuracy: 0.9984 - val_loss: 0.0044 - val_accuracy: 0.9990\n",
            "-----Fitting for attacker: 152-----Loss:2.060264\n",
            "Epoch 1/2\n",
            "219/219 [==============================] - 2s 6ms/step - loss: 0.2815 - accuracy: 0.9104 - val_loss: 0.0110 - val_accuracy: 0.9970\n",
            "Epoch 2/2\n",
            "219/219 [==============================] - 1s 6ms/step - loss: 0.0054 - accuracy: 0.9991 - val_loss: 0.0032 - val_accuracy: 0.9990\n",
            "-----Fitting for attacker: 155-----Loss:2.3620741\n",
            "Epoch 1/2\n",
            "219/219 [==============================] - 2s 6ms/step - loss: 0.3292 - accuracy: 0.9006 - val_loss: 0.0112 - val_accuracy: 0.9977\n",
            "Epoch 2/2\n",
            "219/219 [==============================] - 1s 6ms/step - loss: 0.0066 - accuracy: 0.9987 - val_loss: 0.0025 - val_accuracy: 0.9997\n",
            "-----Fitting for attacker: 158-----Loss:2.0211315\n",
            "Epoch 1/2\n",
            "219/219 [==============================] - 2s 6ms/step - loss: 0.3112 - accuracy: 0.9020 - val_loss: 0.0178 - val_accuracy: 0.9950\n",
            "Epoch 2/2\n",
            "219/219 [==============================] - 1s 6ms/step - loss: 0.0095 - accuracy: 0.9976 - val_loss: 0.0145 - val_accuracy: 0.9967\n",
            "-----Fitting for attacker: 165-----Loss:2.1260219\n",
            "Epoch 1/2\n",
            "219/219 [==============================] - 2s 6ms/step - loss: 0.3422 - accuracy: 0.8907 - val_loss: 0.0162 - val_accuracy: 0.9977\n",
            "Epoch 2/2\n",
            "219/219 [==============================] - 1s 6ms/step - loss: 0.0061 - accuracy: 0.9984 - val_loss: 0.0022 - val_accuracy: 1.0000\n",
            "-----Fitting for attacker: 167-----Loss:2.1588607\n",
            "Epoch 1/2\n",
            "219/219 [==============================] - 2s 7ms/step - loss: 0.3511 - accuracy: 0.8894 - val_loss: 0.0107 - val_accuracy: 0.9990\n",
            "Epoch 2/2\n",
            "219/219 [==============================] - 1s 7ms/step - loss: 0.0051 - accuracy: 0.9991 - val_loss: 0.0063 - val_accuracy: 0.9990\n",
            "-----Fitting for attacker: 171-----Loss:2.1549582\n",
            "Epoch 1/2\n",
            "219/219 [==============================] - 2s 7ms/step - loss: 0.3701 - accuracy: 0.8859 - val_loss: 0.0113 - val_accuracy: 0.9973\n",
            "Epoch 2/2\n",
            "219/219 [==============================] - 1s 6ms/step - loss: 0.0054 - accuracy: 0.9993 - val_loss: 0.0018 - val_accuracy: 0.9997\n",
            "-----Fitting for attacker: 174-----Loss:2.0437474\n",
            "Epoch 1/2\n",
            "219/219 [==============================] - 2s 7ms/step - loss: 0.3628 - accuracy: 0.8887 - val_loss: 0.0118 - val_accuracy: 0.9977\n",
            "Epoch 2/2\n",
            "219/219 [==============================] - 1s 6ms/step - loss: 0.0055 - accuracy: 0.9987 - val_loss: 0.0022 - val_accuracy: 0.9997\n",
            "-----Fitting for attacker: 177-----Loss:2.1999369\n",
            "Epoch 1/2\n",
            "219/219 [==============================] - 2s 7ms/step - loss: 0.3810 - accuracy: 0.8786 - val_loss: 0.0098 - val_accuracy: 0.9987\n",
            "Epoch 2/2\n",
            "219/219 [==============================] - 1s 7ms/step - loss: 0.0083 - accuracy: 0.9987 - val_loss: 0.0015 - val_accuracy: 1.0000\n",
            "-----Fitting for attacker: 180-----Loss:2.1161683\n",
            "Epoch 1/2\n",
            "219/219 [==============================] - 2s 6ms/step - loss: 0.3736 - accuracy: 0.8807 - val_loss: 0.0168 - val_accuracy: 0.9963\n",
            "Epoch 2/2\n",
            "219/219 [==============================] - 1s 6ms/step - loss: 0.0068 - accuracy: 0.9990 - val_loss: 0.0020 - val_accuracy: 1.0000\n",
            "-----Fitting for attacker: 182-----Loss:2.2425935\n",
            "Epoch 1/2\n",
            "219/219 [==============================] - 2s 6ms/step - loss: 0.3710 - accuracy: 0.8827 - val_loss: 0.0238 - val_accuracy: 0.9937\n",
            "Epoch 2/2\n",
            "219/219 [==============================] - 1s 6ms/step - loss: 0.0075 - accuracy: 0.9984 - val_loss: 0.0032 - val_accuracy: 0.9997\n",
            "-----Fitting for attacker: 184-----Loss:2.3702378\n",
            "Epoch 1/2\n",
            "219/219 [==============================] - 2s 6ms/step - loss: 0.3811 - accuracy: 0.8819 - val_loss: 0.0258 - val_accuracy: 0.9940\n",
            "Epoch 2/2\n",
            "219/219 [==============================] - 1s 6ms/step - loss: 0.0104 - accuracy: 0.9970 - val_loss: 0.0034 - val_accuracy: 0.9997\n",
            "-----Fitting for attacker: 186-----Loss:2.0193121\n",
            "Epoch 1/2\n",
            "219/219 [==============================] - 2s 7ms/step - loss: 0.3739 - accuracy: 0.8833 - val_loss: 0.0171 - val_accuracy: 0.9963\n",
            "Epoch 2/2\n",
            "219/219 [==============================] - 1s 6ms/step - loss: 0.0069 - accuracy: 0.9989 - val_loss: 0.0024 - val_accuracy: 1.0000\n",
            "----------0.2----------\n",
            "-----Fitting for attacker: 101-----Loss:2.0817988\n",
            "Epoch 1/2\n",
            "219/219 [==============================] - 2s 6ms/step - loss: 0.2847 - accuracy: 0.9096 - val_loss: 0.0101 - val_accuracy: 0.9977\n",
            "Epoch 2/2\n",
            "219/219 [==============================] - 1s 6ms/step - loss: 0.0075 - accuracy: 0.9979 - val_loss: 0.0017 - val_accuracy: 0.9993\n",
            "-----Fitting for attacker: 106-----Loss:2.144274\n",
            "Epoch 1/2\n",
            "219/219 [==============================] - 2s 7ms/step - loss: 0.2809 - accuracy: 0.9143 - val_loss: 0.0065 - val_accuracy: 0.9983\n",
            "Epoch 2/2\n",
            "219/219 [==============================] - 1s 6ms/step - loss: 0.0049 - accuracy: 0.9989 - val_loss: 0.0087 - val_accuracy: 0.9980\n",
            "-----Fitting for attacker: 108-----Loss:2.1846306\n",
            "Epoch 1/2\n",
            "219/219 [==============================] - 2s 6ms/step - loss: 0.2717 - accuracy: 0.9210 - val_loss: 0.0099 - val_accuracy: 0.9977\n",
            "Epoch 2/2\n",
            "219/219 [==============================] - 1s 6ms/step - loss: 0.0051 - accuracy: 0.9986 - val_loss: 0.0024 - val_accuracy: 0.9993\n",
            "-----Fitting for attacker: 110-----Loss:2.4263525\n",
            "Epoch 1/2\n",
            "219/219 [==============================] - 2s 6ms/step - loss: 0.2713 - accuracy: 0.9161 - val_loss: 0.0110 - val_accuracy: 0.9967\n",
            "Epoch 2/2\n",
            "219/219 [==============================] - 1s 6ms/step - loss: 0.0046 - accuracy: 0.9991 - val_loss: 0.0027 - val_accuracy: 0.9993\n",
            "-----Fitting for attacker: 112-----Loss:2.262104\n",
            "Epoch 1/2\n",
            "219/219 [==============================] - 2s 7ms/step - loss: 0.2817 - accuracy: 0.9129 - val_loss: 0.0079 - val_accuracy: 0.9973\n",
            "Epoch 2/2\n",
            "219/219 [==============================] - 1s 6ms/step - loss: 0.0069 - accuracy: 0.9983 - val_loss: 0.0017 - val_accuracy: 0.9997\n",
            "-----Fitting for attacker: 114-----Loss:2.387646\n",
            "Epoch 1/2\n",
            "219/219 [==============================] - 2s 6ms/step - loss: 0.2976 - accuracy: 0.9071 - val_loss: 0.0076 - val_accuracy: 0.9973\n",
            "Epoch 2/2\n",
            "219/219 [==============================] - 1s 6ms/step - loss: 0.0069 - accuracy: 0.9977 - val_loss: 0.0055 - val_accuracy: 0.9987\n",
            "-----Fitting for attacker: 117-----Loss:2.4398053\n",
            "Epoch 1/2\n",
            "219/219 [==============================] - 2s 6ms/step - loss: 0.2817 - accuracy: 0.9169 - val_loss: 0.0166 - val_accuracy: 0.9950\n",
            "Epoch 2/2\n",
            "219/219 [==============================] - 1s 6ms/step - loss: 0.0050 - accuracy: 0.9991 - val_loss: 0.0022 - val_accuracy: 0.9993\n",
            "-----Fitting for attacker: 119-----Loss:2.4932346\n",
            "Epoch 1/2\n",
            "219/219 [==============================] - 2s 7ms/step - loss: 0.2910 - accuracy: 0.9153 - val_loss: 0.0061 - val_accuracy: 0.9987\n",
            "Epoch 2/2\n",
            "219/219 [==============================] - 1s 6ms/step - loss: 0.0043 - accuracy: 0.9987 - val_loss: 0.0017 - val_accuracy: 0.9997\n",
            "-----Fitting for attacker: 121-----Loss:2.6292107\n",
            "Epoch 1/2\n",
            "219/219 [==============================] - 2s 6ms/step - loss: 0.3007 - accuracy: 0.9113 - val_loss: 0.0084 - val_accuracy: 0.9983\n",
            "Epoch 2/2\n",
            "219/219 [==============================] - 1s 6ms/step - loss: 0.0075 - accuracy: 0.9979 - val_loss: 0.0038 - val_accuracy: 0.9993\n",
            "-----Fitting for attacker: 123-----Loss:2.3603613\n",
            "Epoch 1/2\n",
            "219/219 [==============================] - 2s 6ms/step - loss: 0.3121 - accuracy: 0.9059 - val_loss: 0.0074 - val_accuracy: 0.9987\n",
            "Epoch 2/2\n",
            "219/219 [==============================] - 1s 6ms/step - loss: 0.0041 - accuracy: 0.9993 - val_loss: 0.0026 - val_accuracy: 0.9990\n",
            "-----Fitting for attacker: 140-----Loss:2.611857\n",
            "Epoch 1/2\n",
            "219/219 [==============================] - 3s 10ms/step - loss: 0.3262 - accuracy: 0.9096 - val_loss: 0.0173 - val_accuracy: 0.9953\n",
            "Epoch 2/2\n",
            "219/219 [==============================] - 2s 7ms/step - loss: 0.0063 - accuracy: 0.9986 - val_loss: 0.0032 - val_accuracy: 0.9993\n",
            "-----Fitting for attacker: 143-----Loss:2.62882\n",
            "Epoch 1/2\n",
            "219/219 [==============================] - 2s 7ms/step - loss: 0.3298 - accuracy: 0.9003 - val_loss: 0.0082 - val_accuracy: 0.9987\n",
            "Epoch 2/2\n",
            "219/219 [==============================] - 1s 6ms/step - loss: 0.0052 - accuracy: 0.9989 - val_loss: 0.0021 - val_accuracy: 0.9993\n",
            "-----Fitting for attacker: 152-----Loss:2.7627306\n",
            "Epoch 1/2\n",
            "219/219 [==============================] - 2s 7ms/step - loss: 0.3164 - accuracy: 0.9024 - val_loss: 0.0111 - val_accuracy: 0.9970\n",
            "Epoch 2/2\n",
            "219/219 [==============================] - 1s 6ms/step - loss: 0.0050 - accuracy: 0.9987 - val_loss: 0.0061 - val_accuracy: 0.9987\n",
            "-----Fitting for attacker: 156-----Loss:2.8295994\n",
            "Epoch 1/2\n",
            "219/219 [==============================] - 2s 7ms/step - loss: 0.2977 - accuracy: 0.9124 - val_loss: 0.0109 - val_accuracy: 0.9977\n",
            "Epoch 2/2\n",
            "219/219 [==============================] - 1s 6ms/step - loss: 0.0054 - accuracy: 0.9990 - val_loss: 0.0042 - val_accuracy: 0.9990\n",
            "-----Fitting for attacker: 159-----Loss:2.9601552\n",
            "Epoch 1/2\n",
            "219/219 [==============================] - 2s 7ms/step - loss: 0.2888 - accuracy: 0.9131 - val_loss: 0.0085 - val_accuracy: 0.9977\n",
            "Epoch 2/2\n",
            "219/219 [==============================] - 1s 6ms/step - loss: 0.0044 - accuracy: 0.9991 - val_loss: 0.0012 - val_accuracy: 0.9997\n",
            "-----Fitting for attacker: 162-----Loss:2.5999012\n",
            "Epoch 1/2\n",
            "219/219 [==============================] - 2s 7ms/step - loss: 0.2725 - accuracy: 0.9203 - val_loss: 0.0050 - val_accuracy: 0.9987\n",
            "Epoch 2/2\n",
            "219/219 [==============================] - 1s 6ms/step - loss: 0.0032 - accuracy: 0.9994 - val_loss: 0.0013 - val_accuracy: 0.9997\n",
            "----------0.1----------\n",
            "-----Fitting for attacker: 101-----Loss:3.7965114\n",
            "Epoch 1/2\n",
            "219/219 [==============================] - 2s 6ms/step - loss: 0.3469 - accuracy: 0.8936 - val_loss: 0.0136 - val_accuracy: 0.9967\n",
            "Epoch 2/2\n",
            "219/219 [==============================] - 1s 6ms/step - loss: 0.0041 - accuracy: 0.9993 - val_loss: 0.0029 - val_accuracy: 0.9997\n",
            "-----Fitting for attacker: 104-----Loss:3.511621\n",
            "Epoch 1/2\n",
            "219/219 [==============================] - 2s 7ms/step - loss: 0.3485 - accuracy: 0.8936 - val_loss: 0.0111 - val_accuracy: 0.9973\n",
            "Epoch 2/2\n",
            "219/219 [==============================] - 1s 6ms/step - loss: 0.0048 - accuracy: 0.9993 - val_loss: 0.0081 - val_accuracy: 0.9977\n",
            "-----Fitting for attacker: 107-----Loss:3.5807672\n",
            "Epoch 1/2\n",
            "219/219 [==============================] - 2s 7ms/step - loss: 0.3754 - accuracy: 0.8824 - val_loss: 0.0144 - val_accuracy: 0.9973\n",
            "Epoch 2/2\n",
            "219/219 [==============================] - 1s 6ms/step - loss: 0.0060 - accuracy: 0.9984 - val_loss: 0.0068 - val_accuracy: 0.9987\n",
            "-----Fitting for attacker: 110-----Loss:3.4589195\n",
            "Epoch 1/2\n",
            "219/219 [==============================] - 2s 7ms/step - loss: 0.3631 - accuracy: 0.8897 - val_loss: 0.0149 - val_accuracy: 0.9960\n",
            "Epoch 2/2\n",
            "219/219 [==============================] - 1s 6ms/step - loss: 0.0060 - accuracy: 0.9989 - val_loss: 0.0023 - val_accuracy: 0.9997\n",
            "-----Fitting for attacker: 112-----Loss:3.5170145\n",
            "Epoch 1/2\n",
            "219/219 [==============================] - 2s 7ms/step - loss: 0.3608 - accuracy: 0.8876 - val_loss: 0.0081 - val_accuracy: 0.9983\n",
            "Epoch 2/2\n",
            "219/219 [==============================] - 1s 6ms/step - loss: 0.0056 - accuracy: 0.9984 - val_loss: 0.0030 - val_accuracy: 1.0000\n",
            "-----Fitting for attacker: 116-----Loss:3.759663\n",
            "Epoch 1/2\n",
            "219/219 [==============================] - 2s 7ms/step - loss: 0.3562 - accuracy: 0.8901 - val_loss: 0.0100 - val_accuracy: 0.9970\n",
            "Epoch 2/2\n",
            "219/219 [==============================] - 1s 6ms/step - loss: 0.0057 - accuracy: 0.9987 - val_loss: 0.0114 - val_accuracy: 0.9973\n",
            "-----Fitting for attacker: 118-----Loss:3.8294086\n",
            "Epoch 1/2\n",
            "219/219 [==============================] - 2s 7ms/step - loss: 0.3651 - accuracy: 0.8860 - val_loss: 0.0098 - val_accuracy: 0.9973\n",
            "Epoch 2/2\n",
            "219/219 [==============================] - 1s 6ms/step - loss: 0.0054 - accuracy: 0.9986 - val_loss: 0.0063 - val_accuracy: 0.9977\n",
            "-----Fitting for attacker: 122-----Loss:3.6138754\n",
            "Epoch 1/2\n",
            "219/219 [==============================] - 2s 7ms/step - loss: 0.3576 - accuracy: 0.8873 - val_loss: 0.0194 - val_accuracy: 0.9947\n",
            "Epoch 2/2\n",
            "219/219 [==============================] - 1s 6ms/step - loss: 0.0074 - accuracy: 0.9980 - val_loss: 0.0023 - val_accuracy: 0.9997\n",
            "-----Fitting for attacker: 145-----Loss:4.2942543\n",
            "Epoch 1/2\n",
            "219/219 [==============================] - 2s 6ms/step - loss: 0.3355 - accuracy: 0.8991 - val_loss: 0.0050 - val_accuracy: 0.9990\n",
            "Epoch 2/2\n",
            "219/219 [==============================] - 1s 6ms/step - loss: 0.0064 - accuracy: 0.9987 - val_loss: 0.0014 - val_accuracy: 0.9997\n",
            "-----Fitting for attacker: 148-----Loss:4.1552444\n",
            "Epoch 1/2\n",
            "219/219 [==============================] - 2s 6ms/step - loss: 0.3200 - accuracy: 0.9030 - val_loss: 0.0041 - val_accuracy: 0.9997\n",
            "Epoch 2/2\n",
            "219/219 [==============================] - 1s 6ms/step - loss: 0.0029 - accuracy: 0.9994 - val_loss: 0.0015 - val_accuracy: 0.9997\n",
            "-----Fitting for attacker: 150-----Loss:4.04886\n",
            "Epoch 1/2\n",
            "219/219 [==============================] - 2s 7ms/step - loss: 0.3490 - accuracy: 0.8921 - val_loss: 0.0039 - val_accuracy: 0.9997\n",
            "Epoch 2/2\n",
            "219/219 [==============================] - 1s 6ms/step - loss: 0.0041 - accuracy: 0.9991 - val_loss: 8.6228e-04 - val_accuracy: 1.0000\n",
            "-----Fitting for attacker: 153-----Loss:3.7522128\n",
            "Epoch 1/2\n",
            "219/219 [==============================] - 2s 7ms/step - loss: 0.3565 - accuracy: 0.8884 - val_loss: 0.0081 - val_accuracy: 0.9987\n",
            "Epoch 2/2\n",
            "219/219 [==============================] - 1s 6ms/step - loss: 0.0024 - accuracy: 0.9999 - val_loss: 0.0018 - val_accuracy: 0.9997\n"
          ]
        }
      ]
    },
    {
      "cell_type": "code",
      "source": [
        "plt.figure()\n",
        "plt.plot(all_loss)"
      ],
      "metadata": {
        "id": "7TcF7RVjK8Ng",
        "outputId": "0d395088-1e1b-4c2a-d30f-f0193cd9f703",
        "colab": {
          "base_uri": "https://localhost:8080/",
          "height": 283
        }
      },
      "id": "7TcF7RVjK8Ng",
      "execution_count": 41,
      "outputs": [
        {
          "output_type": "execute_result",
          "data": {
            "text/plain": [
              "[<matplotlib.lines.Line2D at 0x7f17ffb1fed0>]"
            ]
          },
          "metadata": {},
          "execution_count": 41
        },
        {
          "output_type": "display_data",
          "data": {
            "text/plain": [
              "<Figure size 432x288 with 1 Axes>"
            ],
            "image/png": "[encoded data removed]"
          },
          "metadata": {
            "needs_background": "light"
          }
        }
      ]
    },
    {
      "cell_type": "code",
      "source": [
        "def test_model_w_attacker():\n",
        "  #Prepare y values and random values for input to generator\n",
        "  rand_y_in = tf.experimental.numpy.append(test_labels, tf.random.normal([test_labels.shape[0], noise_dim]), axis=1)\n",
        "  \n",
        "  #Generate noises for rand_y_in\n",
        "  generated_noise = generator(rand_y_in, training=False)\n",
        "  generated_noise = generated_noise * 0.5\n",
        "  generated_noise = tf.squeeze(generated_noise)\n",
        "\n",
        "  #Add noises to x images\n",
        "  noisy_images = generated_noise.numpy()+test_images\n",
        "\n",
        "  #Create a new attacker model that has the same architecture as GAN discriminator, and try to fit to noisy x inputs\n",
        "  attacker_model = make_discriminator_model()\n",
        "  attacker_model.compile(optimizer=tf.keras.optimizers.Adam(),loss=cross_entropy_categorical,metrics=[\"accuracy\"])\n",
        "  return attacker_model.fit(noisy_images,test_labels,validation_split=0.3,epochs=2)"
      ],
      "metadata": {
        "id": "l3XRGQ5O2M_s"
      },
      "id": "l3XRGQ5O2M_s",
      "execution_count": 30,
      "outputs": []
    },
    {
      "cell_type": "code",
      "source": [
        ""
      ],
      "metadata": {
        "id": "LfUsANMEA9Hx",
        "outputId": "96561afc-fe6c-4688-9ff8-3fe974ef5a0f",
        "colab": {
          "base_uri": "https://localhost:8080/"
        }
      },
      "id": "LfUsANMEA9Hx",
      "execution_count": 32,
      "outputs": [
        {
          "output_type": "stream",
          "name": "stdout",
          "text": [
            "Epoch 1/2\n",
            "219/219 [==============================] - 3s 10ms/step - loss: 0.2932 - accuracy: 0.9106 - val_loss: 0.0058 - val_accuracy: 0.9983\n",
            "Epoch 2/2\n",
            "219/219 [==============================] - 2s 8ms/step - loss: 0.0021 - accuracy: 1.0000 - val_loss: 0.0026 - val_accuracy: 0.9997\n"
          ]
        }
      ]
    },
    {
      "cell_type": "code",
      "source": [
        "history.history['val_loss'][-1]"
      ],
      "metadata": {
        "id": "DUVGKGXeBJO9",
        "outputId": "5cf188ff-d644-4760-b3cb-83ac244b409d",
        "colab": {
          "base_uri": "https://localhost:8080/"
        }
      },
      "id": "DUVGKGXeBJO9",
      "execution_count": 38,
      "outputs": [
        {
          "output_type": "execute_result",
          "data": {
            "text/plain": [
              "0.0026047516148537397"
            ]
          },
          "metadata": {},
          "execution_count": 38
        }
      ]
    },
    {
      "cell_type": "markdown",
      "source": [
        "# Experiment (Test9)"
      ],
      "metadata": {
        "id": "8aC0VCNuYbfm"
      },
      "id": "8aC0VCNuYbfm"
    },
    {
      "cell_type": "code",
      "source": [
        "for lmbd in np.float32(np.linspace(0.3,0.1,3)):\n",
        "\n",
        "  print('----------'+str(lmbd)+'----------')\n",
        "\n",
        "  #Restart graph session\n",
        "  tf.keras.backend.clear_session()\n",
        "\n",
        "  #Generate New Models\n",
        "  generator = make_generator_model()\n",
        "  discriminator = make_discriminator_model()\n",
        "\n",
        "  #Set up optimizer and checkpoints(Never used, putting it here just in case)\n",
        "  checkpoint_dir = './training_checkpoints'\n",
        "  checkpoint_prefix = os.path.join(checkpoint_dir, \"ckpt\")\n",
        "  checkpoint = tf.train.Checkpoint(generator_optimizer=generator_optimizer,\n",
        "                                  discriminator_optimizer=discriminator_optimizer,\n",
        "                                  generator=generator,\n",
        "                                  discriminator=discriminator)\n",
        "  \n",
        "  #Reset train_time to zero\n",
        "  train_time=0\n",
        "\n",
        "  #Initialize metric save arrays\n",
        "  norm_evals = []\n",
        "  disc_w_noise_accuracy = []\n",
        "  disc_wo_noise_accuracy = []\n",
        "  gen_loss_evals = []\n",
        "  disc_loss_evals = []\n",
        "  lambda_evals = []\n",
        "\n",
        "  #Start training with new lmbd number\n",
        "  train(dataset, EPOCHS,train_time,lmbd)\n",
        "\n",
        "  #Save arrays as csv file\n",
        "  df = pd.DataFrame(list(zip(norm_evals, disc_w_noise_accuracy,disc_wo_noise_accuracy,gen_loss_evals,disc_loss_evals)),\n",
        "                columns =['Generator Norm', 'Disc_acc (w/ noise)','Disc_acc (w/o noise)','Generator Loss','Discriminator Loss'])\n",
        "\n",
        "  df.to_csv(images_dir+'/'+str(lmbd)+'/out.csv',index=False)"
      ],
      "metadata": {
        "id": "KD7wDKHIYgSM"
      },
      "id": "KD7wDKHIYgSM",
      "execution_count": null,
      "outputs": []
    },
    {
      "cell_type": "markdown",
      "id": "cb2b8616-3f89-4d9a-8cf3-352b221f732f",
      "metadata": {
        "tags": [],
        "id": "cb2b8616-3f89-4d9a-8cf3-352b221f732f"
      },
      "source": [
        "# Train"
      ]
    },
    {
      "cell_type": "code",
      "source": [
        "generator = make_generator_model()\n",
        "discriminator = make_discriminator_model()"
      ],
      "metadata": {
        "id": "lZGe-V8gWGh5"
      },
      "id": "lZGe-V8gWGh5",
      "execution_count": null,
      "outputs": []
    },
    {
      "cell_type": "code",
      "source": [
        "checkpoint_dir = './training_checkpoints'\n",
        "checkpoint_prefix = os.path.join(checkpoint_dir, \"ckpt\")\n",
        "checkpoint = tf.train.Checkpoint(generator_optimizer=generator_optimizer,\n",
        "                                 discriminator_optimizer=discriminator_optimizer,\n",
        "                                 generator=generator,\n",
        "                                 discriminator=discriminator)"
      ],
      "metadata": {
        "id": "aenoX3xAWSsF"
      },
      "id": "aenoX3xAWSsF",
      "execution_count": null,
      "outputs": []
    },
    {
      "cell_type": "code",
      "source": [
        "train_time=0"
      ],
      "metadata": {
        "id": "vRL_URpUwNmf"
      },
      "id": "vRL_URpUwNmf",
      "execution_count": null,
      "outputs": []
    },
    {
      "cell_type": "code",
      "source": [
        "#Initialize arrays to save metrics (to plot)\n",
        "norm_evals = []\n",
        "disc_w_noise_accuracy = []\n",
        "disc_wo_noise_accuracy = []\n",
        "gen_loss_evals = []\n",
        "disc_loss_evals = []\n",
        "lambda_evals = []"
      ],
      "metadata": {
        "id": "IGhqZoJpXjB9"
      },
      "id": "IGhqZoJpXjB9",
      "execution_count": null,
      "outputs": []
    },
    {
      "cell_type": "code",
      "execution_count": null,
      "id": "d5d9b66b-aa37-4076-9d2f-83df4718fed5",
      "metadata": {
        "id": "d5d9b66b-aa37-4076-9d2f-83df4718fed5",
        "outputId": "b8e4b24d-9a13-4b32-beaa-6d6e034dd3b8",
        "colab": {
          "base_uri": "https://localhost:8080/",
          "height": 1000
        }
      },
      "outputs": [
        {
          "output_type": "stream",
          "name": "stdout",
          "text": [
            "2nd order Norm: 15.187191\n",
            "Discriminator w/o Noise Accuracy: 0.7578125\n",
            "Discriminator w/  Noise Accuracy: 0.015625\n",
            "Generator Loss: 0.8081722\n",
            "Discriminator Loss: 1.8529973\n"
          ]
        },
        {
          "output_type": "display_data",
          "data": {
            "text/plain": [
              "<Figure size 864x576 with 4 Axes>"
            ],
            "image/png": "[encoded data removed]"
          },
          "metadata": {
            "needs_background": "light"
          }
        },
        {
          "output_type": "display_data",
          "data": {
            "text/plain": [
              "<Figure size 504x720 with 9 Axes>"
            ],
            "image/png": "[encoded data removed]"
          },
          "metadata": {
            "needs_background": "light"
          }
        },
        {
          "output_type": "error",
          "ename": "KeyboardInterrupt",
          "evalue": "ignored",
          "traceback": [
            "\u001b[0;31m---------------------------------------------------------------------------\u001b[0m",
            "\u001b[0;31mKeyboardInterrupt\u001b[0m                         Traceback (most recent call last)",
            "\u001b[0;32m<ipython-input-29-1fb6e091f2f9>\u001b[0m in \u001b[0;36m<module>\u001b[0;34m()\u001b[0m\n\u001b[0;32m----> 1\u001b[0;31m \u001b[0mtrain\u001b[0m\u001b[0;34m(\u001b[0m\u001b[0mdataset\u001b[0m\u001b[0;34m,\u001b[0m \u001b[0mEPOCHS\u001b[0m\u001b[0;34m,\u001b[0m\u001b[0mtrain_time\u001b[0m\u001b[0;34m,\u001b[0m\u001b[0;36m0.5\u001b[0m\u001b[0;34m)\u001b[0m\u001b[0;34m\u001b[0m\u001b[0;34m\u001b[0m\u001b[0m\n\u001b[0m",
            "\u001b[0;32m<ipython-input-23-3c8b818d922e>\u001b[0m in \u001b[0;36mtrain\u001b[0;34m(dataset, epochs, train_time, current_lambda)\u001b[0m\n\u001b[1;32m      8\u001b[0m \u001b[0;34m\u001b[0m\u001b[0m\n\u001b[1;32m      9\u001b[0m \u001b[0;34m\u001b[0m\u001b[0m\n\u001b[0;32m---> 10\u001b[0;31m     \u001b[0;32mfor\u001b[0m \u001b[0mx\u001b[0m\u001b[0;34m,\u001b[0m\u001b[0my\u001b[0m \u001b[0;32min\u001b[0m \u001b[0mdataset\u001b[0m\u001b[0;34m:\u001b[0m\u001b[0;34m\u001b[0m\u001b[0;34m\u001b[0m\u001b[0m\n\u001b[0m\u001b[1;32m     11\u001b[0m       \u001b[0mtrain_time\u001b[0m \u001b[0;34m=\u001b[0m \u001b[0mtrain_time\u001b[0m\u001b[0;34m+\u001b[0m\u001b[0;36m1\u001b[0m\u001b[0;34m\u001b[0m\u001b[0;34m\u001b[0m\u001b[0m\n\u001b[1;32m     12\u001b[0m \u001b[0;34m\u001b[0m\u001b[0m\n",
            "\u001b[0;31mKeyboardInterrupt\u001b[0m: "
          ]
        }
      ],
      "source": [
        "train(dataset, EPOCHS,train_time,0.5)"
      ]
    },
    {
      "cell_type": "code",
      "execution_count": null,
      "id": "744fce29-db0a-428f-9529-2a93f0091b82",
      "metadata": {
        "id": "744fce29-db0a-428f-9529-2a93f0091b82"
      },
      "outputs": [],
      "source": [
        "checkpoint.restore(tf.train.latest_checkpoint(checkpoint_dir))"
      ]
    },
    {
      "cell_type": "markdown",
      "source": [
        "# Test Trained Generator"
      ],
      "metadata": {
        "id": "qDA_BURIyTSx"
      },
      "id": "qDA_BURIyTSx"
    },
    {
      "cell_type": "code",
      "source": [
        "#train_X = tf.cast(train_X, tf.float32)\n",
        "rand_y_in = tf.experimental.numpy.append(test_labels, tf.random.normal([test_labels.shape[0], noise_dim]), axis=1)\n",
        "\n",
        "generated_noise = generator(rand_y_in, training=False)\n",
        "generated_noise = generated_noise * 0.5\n",
        "generated_noise = tf.squeeze(generated_noise)"
      ],
      "metadata": {
        "id": "YZzDb1nGyd4N"
      },
      "id": "YZzDb1nGyd4N",
      "execution_count": null,
      "outputs": []
    },
    {
      "cell_type": "code",
      "source": [
        "\n",
        "##test_images.shape"
      ],
      "metadata": {
        "id": "U_iTnqCiySfN"
      },
      "id": "U_iTnqCiySfN",
      "execution_count": null,
      "outputs": []
    },
    {
      "cell_type": "code",
      "source": [
        "noisy_images = generated_noise.numpy()+test_images\n",
        "attacker_model = make_discriminator_model()\n",
        "attacker_model.compile(optimizer=tf.keras.optimizers.Adam(),loss=cross_entropy_categorical,metrics=[\"accuracy\"])\n",
        "attacker_model.fit(noisy_images,test_labels,validation_split=0.3,epochs=10)"
      ],
      "metadata": {
        "colab": {
          "base_uri": "https://localhost:8080/"
        },
        "id": "VREaDyBiziko",
        "outputId": "6b7891fa-4f95-4696-d0b8-9220157622bf"
      },
      "id": "VREaDyBiziko",
      "execution_count": null,
      "outputs": [
        {
          "output_type": "stream",
          "name": "stdout",
          "text": [
            "Epoch 1/10\n",
            "219/219 [==============================] - 4s 11ms/step - loss: 0.1560 - accuracy: 0.9526 - val_loss: 0.0053 - val_accuracy: 0.9987\n",
            "Epoch 2/10\n",
            "219/219 [==============================] - 2s 9ms/step - loss: 0.0043 - accuracy: 0.9989 - val_loss: 0.0057 - val_accuracy: 0.9990\n",
            "Epoch 3/10\n",
            "219/219 [==============================] - 2s 8ms/step - loss: 0.0016 - accuracy: 0.9994 - val_loss: 0.0039 - val_accuracy: 0.9987\n",
            "Epoch 4/10\n",
            "219/219 [==============================] - 2s 7ms/step - loss: 2.9413e-04 - accuracy: 1.0000 - val_loss: 8.7832e-04 - val_accuracy: 0.9997\n",
            "Epoch 5/10\n",
            "219/219 [==============================] - 2s 7ms/step - loss: 8.3875e-05 - accuracy: 1.0000 - val_loss: 0.0010 - val_accuracy: 0.9997\n",
            "Epoch 6/10\n",
            "219/219 [==============================] - 1s 6ms/step - loss: 5.9417e-05 - accuracy: 1.0000 - val_loss: 9.2252e-04 - val_accuracy: 0.9997\n",
            "Epoch 7/10\n",
            "219/219 [==============================] - 1s 5ms/step - loss: 4.5288e-05 - accuracy: 1.0000 - val_loss: 0.0010 - val_accuracy: 0.9997\n",
            "Epoch 8/10\n",
            "219/219 [==============================] - 1s 5ms/step - loss: 4.2503e-05 - accuracy: 1.0000 - val_loss: 0.0012 - val_accuracy: 0.9997\n",
            "Epoch 9/10\n",
            "219/219 [==============================] - 1s 5ms/step - loss: 3.0710e-05 - accuracy: 1.0000 - val_loss: 5.6159e-04 - val_accuracy: 0.9997\n",
            "Epoch 10/10\n",
            "219/219 [==============================] - 1s 5ms/step - loss: 2.9020e-05 - accuracy: 1.0000 - val_loss: 8.7026e-04 - val_accuracy: 0.9997\n"
          ]
        },
        {
          "output_type": "execute_result",
          "data": {
            "text/plain": [
              "<keras.callbacks.History at 0x7fc87807c750>"
            ]
          },
          "metadata": {},
          "execution_count": 42
        }
      ]
    },
    {
      "cell_type": "code",
      "source": [
        "generated_image = generator(seed, training=False)\n",
        "generated_image[7, :, :, 0].shape#\n",
        "\n",
        "plt.imshow(generated_image[7, :, :, 0], cmap='gray')\n",
        "plt.axis('off')"
      ],
      "metadata": {
        "id": "k11ZGpNVuMq4",
        "outputId": "14a125af-0160-46c3-f086-f5a46316095f",
        "colab": {
          "base_uri": "https://localhost:8080/",
          "height": 266
        }
      },
      "id": "k11ZGpNVuMq4",
      "execution_count": null,
      "outputs": [
        {
          "output_type": "execute_result",
          "data": {
            "text/plain": [
              "(-0.5, 27.5, 27.5, -0.5)"
            ]
          },
          "metadata": {},
          "execution_count": 33
        },
        {
          "output_type": "display_data",
          "data": {
            "text/plain": [
              "<Figure size 432x288 with 1 Axes>"
            ],
            "image/png": "[encoded data removed]"
          },
          "metadata": {
            "needs_background": "light"
          }
        }
      ]
    },
    {
      "cell_type": "code",
      "source": [
        "generated_image = generator(seed, training=False)\n",
        "\n",
        "plt.imshow(generated_image[7, :, :, 0], cmap='gray')\n",
        "generated_image[7, 27, 27, 0]"
      ],
      "metadata": {
        "id": "818GY4-OKTXr",
        "outputId": "fefce363-149d-4e65-f912-f84fd8aea51f",
        "colab": {
          "base_uri": "https://localhost:8080/",
          "height": 283
        }
      },
      "id": "818GY4-OKTXr",
      "execution_count": null,
      "outputs": [
        {
          "output_type": "execute_result",
          "data": {
            "text/plain": [
              "<tf.Tensor: shape=(), dtype=float32, numpy=0.5007884>"
            ]
          },
          "metadata": {},
          "execution_count": 37
        },
        {
          "output_type": "display_data",
          "data": {
            "text/plain": [
              "<Figure size 432x288 with 1 Axes>"
            ],
            "image/png": "[encoded data removed]"
          },
          "metadata": {
            "needs_background": "light"
          }
        }
      ]
    },
    {
      "cell_type": "code",
      "source": [
        "generate_and_save_images(generator, seed)"
      ],
      "metadata": {
        "id": "-6JrxUXX3GhO",
        "outputId": "16a55abd-68ce-4129-d772-4b2aa323da41",
        "colab": {
          "base_uri": "https://localhost:8080/",
          "height": 466
        }
      },
      "id": "-6JrxUXX3GhO",
      "execution_count": null,
      "outputs": [
        {
          "output_type": "display_data",
          "data": {
            "text/plain": [
              "<Figure size 576x576 with 9 Axes>"
            ],
            "image/png": "[encoded data removed]"
          },
          "metadata": {
            "needs_background": "light"
          }
        }
      ]
    },
    {
      "cell_type": "code",
      "source": [
        "for x,y in dataset:\n",
        "  mean_tensor_single = tf.math.reduce_mean(y,axis=1)\n",
        "  print(mean_tensor_single)\n",
        "  mean_tensor_multi = tf.stack([mean_tensor_single,mean_tensor_single,mean_tensor_single,mean_tensor_single,mean_tensor_single,mean_tensor_single,mean_tensor_single,mean_tensor_single,mean_tensor_single,mean_tensor_single],axis=1)\n",
        "  print(mean_tensor_multi.shape)\n",
        "  break"
      ],
      "metadata": {
        "id": "41TOXMixbJkj",
        "outputId": "2ba3bc13-7529-4560-e7bd-91f0dff79bc7",
        "colab": {
          "base_uri": "https://localhost:8080/"
        }
      },
      "id": "41TOXMixbJkj",
      "execution_count": null,
      "outputs": [
        {
          "output_type": "stream",
          "name": "stdout",
          "text": [
            "tf.Tensor(\n",
            "[0.1 0.1 0.1 0.1 0.1 0.1 0.1 0.1 0.1 0.1 0.1 0.1 0.1 0.1 0.1 0.1 0.1 0.1\n",
            " 0.1 0.1 0.1 0.1 0.1 0.1 0.1 0.1 0.1 0.1 0.1 0.1 0.1 0.1 0.1 0.1 0.1 0.1\n",
            " 0.1 0.1 0.1 0.1 0.1 0.1 0.1 0.1 0.1 0.1 0.1 0.1 0.1 0.1 0.1 0.1 0.1 0.1\n",
            " 0.1 0.1 0.1 0.1 0.1 0.1 0.1 0.1 0.1 0.1 0.1 0.1 0.1 0.1 0.1 0.1 0.1 0.1\n",
            " 0.1 0.1 0.1 0.1 0.1 0.1 0.1 0.1 0.1 0.1 0.1 0.1 0.1 0.1 0.1 0.1 0.1 0.1\n",
            " 0.1 0.1 0.1 0.1 0.1 0.1 0.1 0.1 0.1 0.1 0.1 0.1 0.1 0.1 0.1 0.1 0.1 0.1\n",
            " 0.1 0.1 0.1 0.1 0.1 0.1 0.1 0.1 0.1 0.1 0.1 0.1 0.1 0.1 0.1 0.1 0.1 0.1\n",
            " 0.1 0.1], shape=(128,), dtype=float32)\n",
            "(128, 10)\n"
          ]
        }
      ]
    },
    {
      "cell_type": "code",
      "source": [
        ""
      ],
      "metadata": {
        "id": "DFx1uh0tbzEj"
      },
      "id": "DFx1uh0tbzEj",
      "execution_count": null,
      "outputs": []
    }
  ],
  "metadata": {
    "kernelspec": {
      "display_name": "Python 3 (ipykernel)",
      "language": "python",
      "name": "python3"
    },
    "language_info": {
      "codemirror_mode": {
        "name": "ipython",
        "version": 3
      },
      "file_extension": ".py",
      "mimetype": "text/x-python",
      "name": "python",
      "nbconvert_exporter": "python",
      "pygments_lexer": "ipython3",
      "version": "3.8.10"
    },
    "colab": {
      "name": "NoiseGAN.ipynb",
      "provenance": [],
      "collapsed_sections": []
    },
    "accelerator": "GPU",
    "gpuClass": "standard"
  },
  "nbformat": 4,
  "nbformat_minor": 5
}