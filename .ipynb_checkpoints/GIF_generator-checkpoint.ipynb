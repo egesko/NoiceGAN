{
 "cells": [
  {
   "cell_type": "code",
   "execution_count": 1,
   "id": "e87fcb2d-d718-465b-b86a-afe39f46e2e1",
   "metadata": {},
   "outputs": [],
   "source": [
    "from PIL import Image\n",
    "import numpy as np\n",
    "import os\n",
    "import imageio"
   ]
  },
  {
   "cell_type": "code",
   "execution_count": 2,
   "id": "33ee0b9d-0cf7-4d16-baf4-c123c958eb3b",
   "metadata": {},
   "outputs": [],
   "source": [
    "def combine_images():\n",
    "\n",
    "    count = os.listdir('Graph')\n",
    "    count = len(count)\n",
    "    #print(count)\n",
    "    \n",
    "    i=3\n",
    "    while(i<count):\n",
    "        \n",
    "        #Read the two images\n",
    "        image1 = Image.open('Graph/'+str(i)+'.png')\n",
    "        #image1.show()\n",
    "        image2 = Image.open('Gen_output/'+str(i)+'.png')\n",
    "        #image2.show()\n",
    "        #print(count)\n",
    "\n",
    "        image1_size = image1.size\n",
    "        image2_size = image2.size\n",
    "\n",
    "        new_image = Image.new('RGB',(int(1.6*image1_size[0]), image1_size[1]), (250,250,250))\n",
    "\n",
    "        new_image.paste(image1,(0,0))\n",
    "        new_image.paste(image2,(image1_size[0],40))\n",
    "\n",
    "        new_image.save(\"merged/\"+str(i)+\".png\",\"PNG\")\n",
    "\n",
    "        if(i%50==0):\n",
    "            print(i)\n",
    "\n",
    "        i = i+3\n",
    "#new_image"
   ]
  },
  {
   "cell_type": "code",
   "execution_count": 38,
   "id": "dfd20495-d50b-472b-838f-280c95688db1",
   "metadata": {},
   "outputs": [
    {
     "name": "stdout",
     "output_type": "stream",
     "text": [
      "150\n",
      "300\n",
      "450\n",
      "600\n",
      "750\n",
      "900\n",
      "1050\n"
     ]
    }
   ],
   "source": [
    "combine_images()"
   ]
  },
  {
   "cell_type": "code",
   "execution_count": 7,
   "id": "9b557be1-89cb-40da-befe-f7878f8b2f14",
   "metadata": {},
   "outputs": [
    {
     "name": "stderr",
     "output_type": "stream",
     "text": [
      "C:\\Users\\ege\\AppData\\Local\\Temp/ipykernel_1352/2541625189.py:8: DeprecationWarning: Starting with ImageIO v3 the behavior of this function will switch to that of iio.v3.imread. To keep the current behavior (and make this warning dissapear) use `import imageio.v2 as imageio` or call `imageio.v2.imread` directly.\n",
      "  images.append(imageio.imread(filename))\n"
     ]
    },
    {
     "name": "stdout",
     "output_type": "stream",
     "text": [
      "150\n",
      "300\n",
      "450\n",
      "600\n",
      "750\n",
      "900\n",
      "1050\n"
     ]
    }
   ],
   "source": [
    "\n",
    "\n",
    "count = os.listdir('Graph')\n",
    "count = len(count)\n",
    "\n",
    "i=3\n",
    "images = []\n",
    "while(i<count):\n",
    "    filename = \"merged/\"+str(i)+\".png\"\n",
    "    images.append(imageio.imread(filename))\n",
    "    \n",
    "    \n",
    "    if(i%50==0):\n",
    "        print(i)\n",
    "    i = i+3\n",
    "    \n",
    "imageio.mimsave('training.gif', images)"
   ]
  },
  {
   "cell_type": "code",
   "execution_count": null,
   "id": "64fda85b-8a93-4f46-ad88-9b4a6ec42bef",
   "metadata": {},
   "outputs": [],
   "source": []
  }
 ],
 "metadata": {
  "kernelspec": {
   "display_name": "Python 3 (ipykernel)",
   "language": "python",
   "name": "python3"
  },
  "language_info": {
   "codemirror_mode": {
    "name": "ipython",
    "version": 3
   },
   "file_extension": ".py",
   "mimetype": "text/x-python",
   "name": "python",
   "nbconvert_exporter": "python",
   "pygments_lexer": "ipython3",
   "version": "3.9.6"
  }
 },
 "nbformat": 4,
 "nbformat_minor": 5
}
